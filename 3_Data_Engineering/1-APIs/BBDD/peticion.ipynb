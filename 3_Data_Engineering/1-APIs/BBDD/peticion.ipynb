{
 "cells": [
  {
   "cell_type": "code",
   "execution_count": 1,
   "metadata": {},
   "outputs": [],
   "source": [
    "import requests"
   ]
  },
  {
   "cell_type": "code",
   "execution_count": 16,
   "metadata": {},
   "outputs": [
    {
     "name": "stdout",
     "output_type": "stream",
     "text": [
      "Error en la llamada\n"
     ]
    }
   ],
   "source": [
    "url = \"http://127.0.0.1:5000/\"\n",
    "try:\n",
    "    response = requests.get(url)\n",
    "except:\n",
    "    print(\"Error en la llamada\")"
   ]
  },
  {
   "cell_type": "code",
   "execution_count": 15,
   "metadata": {},
   "outputs": [
    {
     "name": "stdout",
     "output_type": "stream",
     "text": [
      "Error al realizar la solicitud 404\n"
     ]
    }
   ],
   "source": [
    "if response.status_code == 200:\n",
    "    print(response.content)\n",
    "else:\n",
    "    print(\"Error al realizar la solicitud\", response.status_code)"
   ]
  },
  {
   "cell_type": "code",
   "execution_count": 17,
   "metadata": {},
   "outputs": [
    {
     "name": "stdout",
     "output_type": "stream",
     "text": [
      "b'[\\n  {\\n    \"author\": \"Vernor Vinge\",\\n    \"first_sentence\": \"The coldsleep itself was dreamless.\",\\n    \"id\": 0,\\n    \"published\": \"1992\",\\n    \"title\": \"A Fire Upon the Deep\"\\n  },\\n  {\\n    \"author\": \"Ursula K. Le Guin\",\\n    \"first_sentence\": \"With a clamor of bells that set the swallows soaring, the Festival of Summer came to the city Omelas, bright-towered by the sea.\",\\n    \"id\": 1,\\n    \"published\": \"1973\",\\n    \"title\": \"The Ones Who Walk Away From Omelas\"\\n  },\\n  {\\n    \"author\": \"Samuel R. Delany\",\\n    \"first_sentence\": \"to wound the autumnal city.\",\\n    \"id\": 2,\\n    \"published\": \"1975\",\\n    \"title\": \"Dhalgren\"\\n  },\\n  {\\n    \"author\": \"Tolkien\",\\n    \"first_sentence\": \"Un mago llega nunca llega tarde..\",\\n    \"id\": 5,\\n    \"published\": \"1960\",\\n    \"title\": \"ESDLA La Comunidad del Anillo\"\\n  }\\n]\\n'\n"
     ]
    }
   ],
   "source": [
    "url = \"http://127.0.0.1:5000/v2/add_book\"\n",
    "params = {\"id\":5,\n",
    "          \"author\":\"Tolkien\",\n",
    "          \"title\":\"ESDLA La Comunidad del Anillo\",\n",
    "          \"first_sentence\": \"Un mago llega nunca llega tarde..\",\n",
    "          \"published\":1960}\n",
    "\n",
    "try:\n",
    "    response = requests.post(url, params=params)\n",
    "except:\n",
    "    print(\"Error en la llamada\")\n",
    "\n",
    "if response.status_code == 200:\n",
    "    print(response.content)\n",
    "else:\n",
    "    print(\"Error al realizar la solicitud\", response.status_code)"
   ]
  }
 ],
 "metadata": {
  "kernelspec": {
   "display_name": "Python 3",
   "language": "python",
   "name": "python3"
  },
  "language_info": {
   "codemirror_mode": {
    "name": "ipython",
    "version": 3
   },
   "file_extension": ".py",
   "mimetype": "text/x-python",
   "name": "python",
   "nbconvert_exporter": "python",
   "pygments_lexer": "ipython3",
   "version": "3.11.3"
  }
 },
 "nbformat": 4,
 "nbformat_minor": 2
}
