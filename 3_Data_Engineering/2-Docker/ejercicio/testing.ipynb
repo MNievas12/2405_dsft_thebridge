{
 "cells": [
  {
   "cell_type": "code",
   "execution_count": 1,
   "metadata": {},
   "outputs": [],
   "source": [
    "import requests\n",
    "def test_predict_endpoint():\n",
    "    url = 'http://localhost:8000/predict'  \n",
    "    data = {'data': [[100, 100, 200]]} \n",
    "    \n",
    "    response = requests.get(url, json=data)\n",
    "    assert response.status_code == 200\n",
    "    assert 'prediction' in response.json()"
   ]
  },
  {
   "cell_type": "code",
   "execution_count": 3,
   "metadata": {},
   "outputs": [],
   "source": [
    "url = 'http://localhost:8000/predict'  \n",
    "data = {'data': [[100, 100, 200]]} \n",
    "    \n",
    "response = requests.get(url, json=data)"
   ]
  },
  {
   "cell_type": "code",
   "execution_count": 4,
   "metadata": {},
   "outputs": [
    {
     "data": {
      "text/plain": [
       "True"
      ]
     },
     "execution_count": 4,
     "metadata": {},
     "output_type": "execute_result"
    }
   ],
   "source": [
    "response.status_code == 200"
   ]
  },
  {
   "cell_type": "code",
   "execution_count": 5,
   "metadata": {},
   "outputs": [
    {
     "data": {
      "text/plain": [
       "True"
      ]
     },
     "execution_count": 5,
     "metadata": {},
     "output_type": "execute_result"
    }
   ],
   "source": [
    "'prediction' in response.json()"
   ]
  },
  {
   "cell_type": "code",
   "execution_count": 6,
   "metadata": {},
   "outputs": [
    {
     "name": "stdout",
     "output_type": "stream",
     "text": [
      "True\n",
      "True\n"
     ]
    }
   ],
   "source": [
    "url = 'http://localhost:8000/ingest'  \n",
    "data = {'data': [[100, 100, 200, 3000], [200, 230, 500, 4000]]}\n",
    "response = requests.post(url, json=data)\n",
    "print(response.status_code == 200)\n",
    "print(response.json() == {'message': 'Datos ingresados correctamente'})"
   ]
  }
 ],
 "metadata": {
  "kernelspec": {
   "display_name": "Python 3",
   "language": "python",
   "name": "python3"
  },
  "language_info": {
   "codemirror_mode": {
    "name": "ipython",
    "version": 3
   },
   "file_extension": ".py",
   "mimetype": "text/x-python",
   "name": "python",
   "nbconvert_exporter": "python",
   "pygments_lexer": "ipython3",
   "version": "3.11.3"
  }
 },
 "nbformat": 4,
 "nbformat_minor": 2
}
