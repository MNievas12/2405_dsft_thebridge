{
 "cells": [
  {
   "cell_type": "markdown",
   "metadata": {},
   "source": [
    "# NORTHWIND DATABASE"
   ]
  },
  {
   "cell_type": "markdown",
   "metadata": {},
   "source": [
    "El **objetivo** de este ejercicio es generar una serie de consultas SQL que permitan extraer información relevante de la base de datos y luego exportar los resultados para construir dashboards o visualizaciones que proporcionen insights valiosos para la toma de decisiones empresariales.\n",
    "\n",
    "La base de datos Northwind es una base de datos de ejemplo clásica que simula las operaciones de una empresa minorista. Contiene tablas relacionales que representan diferentes aspectos del negocio, como productos, clientes, pedidos y empleados. Utilizando consultas SQL, podrás explorar y analizar estos datos para comprender mejor el desempeño del negocio en diferentes áreas.\n",
    "\n",
    "Una vez que hayas realizado las consultas SQL y obtenido los resultados, podrás utilizarlos para herramientas de visualización de datos como Tableau, Power BI, Streamlit o cualquier otra herramienta de tu elección. "
   ]
  },
  {
   "cell_type": "markdown",
   "metadata": {},
   "source": [
    "![img](./img/northwind-er-diagram.png)"
   ]
  },
  {
   "cell_type": "markdown",
   "metadata": {},
   "source": [
    "Toma el rol de un analista de datos para un departamento específico. \n",
    "- Traduce las necesidades del departamento asignado en una serie de KPIs relevantes \n",
    "- Visualizalos en un dashboard utilizando Tableau. \n",
    "\n",
    "A continuación, se describen las necesidades de tres departamentos: CRM, Ventas y Logística. Para cada departamento, deberán definir al menos 3 KPIs que consideren importantes y desarrollar un dashboard que los represente adecuadamente.\n",
    "\n",
    "## Departamento de CRM (Customer Relationship Management)\n",
    "El departamento de CRM se enfoca en gestionar y mejorar las relaciones con los clientes. Sus necesidades incluyen:\n",
    "\n",
    "1. **Satisfacción del cliente:** Medir la satisfacción de los clientes basándose en el feedback y las quejas.\n",
    "2. **Retención de clientes:** Identificar el porcentaje de clientes que repiten compras.\n",
    "3. **Valor de vida del cliente (CLV):** Calcular el valor total que un cliente aporta durante su relación con la empresa.\n",
    "4. **Tiempo de respuesta:** Medir el tiempo promedio que se tarda en responder a las consultas de los clientes.\n",
    "5. **Tasa de conversión de leads:** Medir el porcentaje de leads que se convierten en clientes efectivos.\n",
    "\n",
    "## Departamento de Ventas\n",
    "El departamento de ventas se encarga de los pedidos e ingresos de la empresa. Sus necesidades incluyen:\n",
    "\n",
    "1. **Ingresos totales:** Medir los ingresos generados en un período específico.\n",
    "2. **Número de pedidos:** Contar el total de pedidos realizados en un período específico.\n",
    "3. **Ingresos por producto:** Medir los ingresos generados por cada tipo de producto.\n",
    "4. **Crecimiento de ventas:** Medir el crecimiento de las ventas comparando períodos actuales con anteriores.\n",
    "5. **Margen de beneficio:** Calcular el margen de beneficio bruto y neto.\n",
    "\n",
    "## Departamento de Logística\n",
    "El departamento de logística se enfoca en la gestión de proveedores y el envío de productos. Sus necesidades incluyen:\n",
    "\n",
    "1. **Tiempos de entrega:** Medir el tiempo promedio desde que se realiza un pedido hasta que se entrega.\n",
    "2. **Costo de envío:** Calcular el costo total de los envíos.\n",
    "3. **Eficiencia de los proveedores:** Medir el cumplimiento de los proveedores en cuanto a tiempo y cantidad entregada.\n",
    "4. **Tasa de devoluciones:** Medir el porcentaje de pedidos que son devueltos por los clientes.\n",
    "5. **Desempeño de los transportistas:** Evaluar el desempeño de los diferentes transportistas en términos de tiempo y costos.\n",
    "\n",
    "## Instrucciones\n",
    "1. **Definición de KPIs:** Para el departamento asignado, definan al menos 3 KPIs relevantes que cubran las necesidades mencionadas.\n",
    "2. **Desarrollo del Dashboard:** Utilizando Tableau, creen un dashboard que visualice estos KPIs de manera clara y efectiva."
   ]
  }
 ],
 "metadata": {
  "language_info": {
   "name": "python"
  }
 },
 "nbformat": 4,
 "nbformat_minor": 2
}
