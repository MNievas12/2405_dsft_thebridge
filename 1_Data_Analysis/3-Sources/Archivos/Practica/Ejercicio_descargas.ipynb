{
 "cells": [
  {
   "attachments": {},
   "cell_type": "markdown",
   "metadata": {},
   "source": [
    "## Ejercicio descargas"
   ]
  },
  {
   "attachments": {},
   "cell_type": "markdown",
   "metadata": {},
   "source": [
    "Python es un lenguaje de propósito general, por lo que podemos desarrollar otros programas,\n",
    "aparte de ciencia de datos, que nos permitan montar dashboards, crear APIs o automatizar\n",
    "procesos. En este caso vas a automatizar un proceso, en el que tendrás que desarrollar un\n",
    "script que ordene todos los archivos de una carpeta, dependiendo de la extensión de los\n",
    "mismos.\n",
    "\n",
    "\n",
    "El objetivo es ordenar la típica carpeta de cajón desastre donde se nos acumulan archivos de\n",
    "todos los formatos como: imágenes, words, presentaciones, excels, ejecutables, zips, etc... Y\n",
    "que no vamos a ir viendo archivo a archivo, ordenándolos.... La solución suele ser eliminarlo\n",
    "todo. Vamos a intentar no tener que llegar a eso, ordenando los ficheros automáticamente en\n",
    "carpetas y revisar las que nos interesen. La típica carpeta donde aplicaríamos este programa es\n",
    "la de “Descargas”, donde se suelen acumular muchos archivos temporales.\n",
    "\n",
    "\n",
    "Por tanto, **el programa tiene que guardar los archivos de la carpeta “Descargas” (o cualquier\n",
    "otra donde acumules mucho archivo temporal) en los siguientes directorios dentro de la\n",
    "propia carpeta “Descargas”**:\n",
    "- Imagenes\n",
    "- Documentos\n",
    "- Software\n",
    "- Otros\n",
    "\n",
    "Cada vez que ejecutes el script, automáticamente se ordenarán todos los archivos en sus\n",
    "correspondientes carpetas.\n"
   ]
  },
  {
   "cell_type": "code",
   "execution_count": 39,
   "metadata": {},
   "outputs": [],
   "source": [
    "doc_types = ('.doc', '.docx', '.txt', '.pdf', '.xls', '.ppt', '.xlsx', '.pptx')\n",
    "img_types = ('.jpg', '.jpeg', '.png', '.svg', '.gif')\n",
    "software_types = ('.exe', '.py', '.ipynb')"
   ]
  },
  {
   "attachments": {},
   "cell_type": "markdown",
   "metadata": {},
   "source": [
    "### 1. Crea un un programa con el flujo principal y encapsúlalo en funciones."
   ]
  },
  {
   "cell_type": "code",
   "execution_count": 1,
   "metadata": {},
   "outputs": [],
   "source": [
    "import os\n",
    "import shutil"
   ]
  },
  {
   "cell_type": "code",
   "execution_count": 16,
   "metadata": {},
   "outputs": [
    {
     "data": {
      "text/plain": [
       "'d:\\\\Bootcamp\\\\Carpeta_profesor\\\\2405_dsft_thebridge\\\\1_Data_Analysis\\\\3-Sources\\\\Archivos\\\\Practica'"
      ]
     },
     "execution_count": 16,
     "metadata": {},
     "output_type": "execute_result"
    }
   ],
   "source": [
    "os.getcwd()"
   ]
  },
  {
   "cell_type": "code",
   "execution_count": 2,
   "metadata": {},
   "outputs": [
    {
     "name": "stdout",
     "output_type": "stream",
     "text": [
      "d:\\Bootcamp\\Carpeta_profesor\\2405_dsft_thebridge\\1_Data_Analysis\\3-Sources\\Archivos\\Practica\\data\n"
     ]
    }
   ],
   "source": [
    "ruta = os.path.join(os.getcwd(), \"data\")\n",
    "print(ruta)"
   ]
  },
  {
   "cell_type": "code",
   "execution_count": 19,
   "metadata": {},
   "outputs": [
    {
     "data": {
      "text/plain": [
       "['class_hlf.py',\n",
       " 'class_hlf.txt',\n",
       " 'ejercicio.png',\n",
       " 'Ejercicio_descargas.ipynb',\n",
       " 'laliga4.csv']"
      ]
     },
     "execution_count": 19,
     "metadata": {},
     "output_type": "execute_result"
    }
   ],
   "source": [
    "os.listdir(ruta)"
   ]
  },
  {
   "cell_type": "code",
   "execution_count": 20,
   "metadata": {},
   "outputs": [
    {
     "name": "stdout",
     "output_type": "stream",
     "text": [
      "class_hlf.py\n",
      "class_hlf.txt\n",
      "ejercicio.png\n",
      "Ejercicio_descargas.ipynb\n",
      "laliga4.csv\n"
     ]
    }
   ],
   "source": [
    "for archivo in os.listdir(ruta):\n",
    "    print(archivo)"
   ]
  },
  {
   "cell_type": "code",
   "execution_count": 22,
   "metadata": {},
   "outputs": [
    {
     "data": {
      "text/plain": [
       "'d:\\\\Bootcamp\\\\Carpeta_profesor\\\\2405_dsft_thebridge\\\\1_Data_Analysis\\\\3-Sources\\\\Archivos\\\\Practica'"
      ]
     },
     "execution_count": 22,
     "metadata": {},
     "output_type": "execute_result"
    }
   ],
   "source": [
    "os.getcwd()"
   ]
  },
  {
   "cell_type": "code",
   "execution_count": 3,
   "metadata": {},
   "outputs": [
    {
     "data": {
      "text/plain": [
       "'d:\\\\Bootcamp\\\\Carpeta_profesor\\\\2405_dsft_thebridge\\\\1_Data_Analysis\\\\3-Sources\\\\Archivos\\\\Practica\\\\data'"
      ]
     },
     "execution_count": 3,
     "metadata": {},
     "output_type": "execute_result"
    }
   ],
   "source": [
    "os.chdir(ruta)\n",
    "os.getcwd()"
   ]
  },
  {
   "cell_type": "code",
   "execution_count": 44,
   "metadata": {},
   "outputs": [],
   "source": [
    "os.makedirs(\"Documentos\", exist_ok=True)\n",
    "os.makedirs(\"Imagenes\", exist_ok=True)\n",
    "os.makedirs(\"Software\", exist_ok=True)\n",
    "os.makedirs(\"Otros\", exist_ok=True)"
   ]
  },
  {
   "cell_type": "code",
   "execution_count": 45,
   "metadata": {},
   "outputs": [
    {
     "name": "stdout",
     "output_type": "stream",
     "text": [
      "class_hlf.py\n",
      "class_hlf.txt\n",
      "ejercicio.png\n",
      "Ejercicio_descargas.ipynb\n",
      "laliga4.csv\n"
     ]
    }
   ],
   "source": [
    "for archivo in os.listdir(ruta):\n",
    "    # Comprobamos si es una carpeta\n",
    "    if os.path.isdir(os.path.join(ruta, archivo)):\n",
    "        continue\n",
    "\n",
    "    print(archivo)\n",
    "    # Comprobamos la extensión del archivo para moverlo\n",
    "    if archivo.endswith(doc_types):\n",
    "        shutil.move(archivo, \"Documentos\")\n",
    "    elif archivo.endswith(img_types):\n",
    "        shutil.move(archivo, \"Imagenes\")\n",
    "    elif archivo.endswith(software_types):\n",
    "        shutil.move(archivo, \"Software\")\n",
    "    else:\n",
    "        shutil.move(archivo, \"Otros\")"
   ]
  },
  {
   "cell_type": "code",
   "execution_count": 46,
   "metadata": {},
   "outputs": [],
   "source": [
    "def crear_carpetas():\n",
    "    os.makedirs(\"Documentos\", exist_ok=True)\n",
    "    os.makedirs(\"Imagenes\", exist_ok=True)\n",
    "    os.makedirs(\"Software\", exist_ok=True)\n",
    "    os.makedirs(\"Otros\", exist_ok=True)"
   ]
  },
  {
   "cell_type": "code",
   "execution_count": 47,
   "metadata": {},
   "outputs": [],
   "source": [
    "crear_carpetas()"
   ]
  },
  {
   "cell_type": "code",
   "execution_count": 48,
   "metadata": {},
   "outputs": [],
   "source": [
    "def mover_archivos():\n",
    "    for archivo in os.listdir(ruta):\n",
    "    # Comprobamos si es una carpeta\n",
    "        if os.path.isdir(os.path.join(ruta, archivo)):\n",
    "            continue\n",
    "\n",
    "        print(\"Moviendo...\", archivo)\n",
    "        # Comprobamos la extensión del archivo para moverlo\n",
    "        if archivo.endswith(doc_types):\n",
    "            shutil.move(archivo, \"Documentos\")\n",
    "        elif archivo.endswith(img_types):\n",
    "            shutil.move(archivo, \"Imagenes\")\n",
    "        elif archivo.endswith(software_types):\n",
    "            shutil.move(archivo, \"Software\")\n",
    "        else:\n",
    "            shutil.move(archivo, \"Otros\")"
   ]
  },
  {
   "cell_type": "code",
   "execution_count": 49,
   "metadata": {},
   "outputs": [
    {
     "name": "stdout",
     "output_type": "stream",
     "text": [
      "Moviendo... class_hlf.py\n",
      "Moviendo... class_hlf.txt\n",
      "Moviendo... ejercicio.png\n",
      "Moviendo... Ejercicio_descargas.ipynb\n",
      "Moviendo... laliga4.csv\n"
     ]
    }
   ],
   "source": [
    "crear_carpetas()\n",
    "mover_archivos()"
   ]
  },
  {
   "attachments": {},
   "cell_type": "markdown",
   "metadata": {},
   "source": [
    "### 2. Crea una clase Fichero en clase.py y un main.py con el programa principal partiendo de esa clase."
   ]
  },
  {
   "cell_type": "code",
   "execution_count": 14,
   "metadata": {},
   "outputs": [],
   "source": [
    "categories = {\"Documentos\": ('.doc', '.docx', '.txt', '.pdf', '.xls', '.ppt', '.xlsx', '.pptx'),\n",
    "              \"Imagenes\": ('.jpg', '.jpeg', '.png', '.svg', '.gif'),\n",
    "              \"Softwares\": ('.exe', '.py', '.ipynb'),\n",
    "              \"Datasets\": (\".csv\"),\n",
    "              \"Otros\": ()}"
   ]
  },
  {
   "cell_type": "code",
   "execution_count": 17,
   "metadata": {},
   "outputs": [],
   "source": [
    "class Fichero:\n",
    "\n",
    "    def __init__(self, ruta, categoria, extensions):\n",
    "        self.ruta = ruta\n",
    "        self.categoria = categoria\n",
    "        self.extensions = extensions\n",
    "        self.crear_carpetas()\n",
    "        self.mover_archivos()\n",
    "\n",
    "    def crear_carpetas(self):\n",
    "        os.chdir(self.ruta)\n",
    "        os.makedirs(self.categoria, exist_ok=True)\n",
    "\n",
    "    def mover_archivos(self):\n",
    "        for archivo in os.listdir(self.ruta):\n",
    "        # Comprobamos si es una carpeta\n",
    "            if os.path.isdir(os.path.join(self.ruta, archivo)):\n",
    "                continue\n",
    "            print(\"Moviendo...\", archivo)\n",
    "            # Comprobamos la extensión del archivo para moverlo\n",
    "            if archivo.endswith(self.extensions) or self.extensions == ():\n",
    "                shutil.move(archivo, self.categoria)\n",
    "    "
   ]
  },
  {
   "cell_type": "code",
   "execution_count": 18,
   "metadata": {},
   "outputs": [
    {
     "name": "stdout",
     "output_type": "stream",
     "text": [
      "Documentos\n",
      "Moviendo... importante\n",
      "Imagenes\n",
      "Moviendo... importante\n",
      "Softwares\n",
      "Moviendo... importante\n",
      "Datasets\n",
      "Moviendo... importante\n",
      "Otros\n",
      "Moviendo... importante\n"
     ]
    }
   ],
   "source": [
    "for categoria in categories:\n",
    "    print(categoria)\n",
    "    Fichero(ruta, categoria, categories[categoria])\n",
    "    "
   ]
  }
 ],
 "metadata": {
  "kernelspec": {
   "display_name": "Python 3.7.4 64-bit",
   "language": "python",
   "name": "python3"
  },
  "language_info": {
   "codemirror_mode": {
    "name": "ipython",
    "version": 3
   },
   "file_extension": ".py",
   "mimetype": "text/x-python",
   "name": "python",
   "nbconvert_exporter": "python",
   "pygments_lexer": "ipython3",
   "version": "3.11.3"
  },
  "orig_nbformat": 4,
  "vscode": {
   "interpreter": {
    "hash": "90139cb9a825bf3d63f6f6704e828dbd1ff7edbd4d0c6e906a71235d6efc74af"
   }
  }
 },
 "nbformat": 4,
 "nbformat_minor": 2
}
