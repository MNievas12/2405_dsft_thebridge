{
 "cells": [
  {
   "attachments": {},
   "cell_type": "markdown",
   "metadata": {},
   "source": [
    "# Clasificador paisajes\n",
    "Para este ejercicio vas a crear un clasificador automático de paisajes. Los datos los encontrarás en el Classroom como `seg_train.zip` y `seg_test.zip`. Se pide:\n",
    "1. Cargar las imágenes. Mira cómo están almacenados los datos. Tendrás que recorrer las carpetas, cargar las imágenes en memoria y etiquetarlas con los nombres de las carpetas. Realiza un reshape de cada imagen (comienza el ejercicio con 32x32, para ir más rápido en las ejecuciones).\n",
    "2. Investiga las imágenes, comprueba con algunas muestras que has cargado bien los datos.\n",
    "3. Normaliza\n",
    "4. Diseña la arquitectura de la red. Recuerda que es un algoritmo de clasificación. Ojo con las dimensiones de la entrada\n",
    "5. Reserva un 20% de los datos del entrenamiento para validar.\n",
    "6. Representa el objeto history\n",
    "7. Evalua el modelo con los datos de test\n",
    "8. Representa algunos de los paisajes donde el modelo comete errores\n",
    "9. Crea una matriz de confusión con los errores del modelo\n",
    "\n",
    "**NOTA apartado 1**: para el apartado 1 tendras que recorre las carpetas/imagenes con `os.listdir()`, e ir cargando todas las imagenes como arrays de numpy\n",
    "\n",
    "**NOTA apartado 4**: empieza con un par de capas Conv2D + MaxPooling2D con activación relu y después la fully connected layer. on softmax como ultima capa"
   ]
  },
  {
   "cell_type": "code",
   "execution_count": 1,
   "metadata": {},
   "outputs": [
    {
     "name": "stdout",
     "output_type": "stream",
     "text": [
      "WARNING:tensorflow:From c:\\Users\\Miguel Angel\\AppData\\Local\\Programs\\Python\\Python311\\Lib\\site-packages\\keras\\src\\losses.py:2976: The name tf.losses.sparse_softmax_cross_entropy is deprecated. Please use tf.compat.v1.losses.sparse_softmax_cross_entropy instead.\n",
      "\n"
     ]
    }
   ],
   "source": [
    "import numpy as np\n",
    "import pandas as pd\n",
    "import matplotlib.pyplot as plt\n",
    "import seaborn as sns\n",
    "\n",
    "import os\n",
    "import cv2\n",
    "from skimage.io import imread\n",
    "\n",
    "from tensorflow import keras\n",
    "from sklearn.metrics import confusion_matrix"
   ]
  },
  {
   "cell_type": "code",
   "execution_count": 2,
   "metadata": {},
   "outputs": [
    {
     "data": {
      "text/plain": [
       "{'buildings': 0,\n",
       " 'forest': 1,\n",
       " 'glacier': 2,\n",
       " 'mountain': 3,\n",
       " 'sea': 4,\n",
       " 'street': 5}"
      ]
     },
     "execution_count": 2,
     "metadata": {},
     "output_type": "execute_result"
    }
   ],
   "source": [
    "class_names = [\"buildings\", \"forest\", \"glacier\", \"mountain\", \"sea\", \"street\"]\n",
    "class_names_label = {class_name:i for i, class_name in enumerate(class_names)}\n",
    "class_names_label"
   ]
  },
  {
   "cell_type": "code",
   "execution_count": 4,
   "metadata": {},
   "outputs": [
    {
     "data": {
      "text/plain": [
       "'d:\\\\Bootcamp\\\\Carpeta_profesor\\\\2405_dsft_thebridge\\\\2_Machine_Learning\\\\3-Deep_Learning\\\\2-Redes_Convolucionales\\\\ejercicios\\\\data\\\\seg_train'"
      ]
     },
     "execution_count": 4,
     "metadata": {},
     "output_type": "execute_result"
    }
   ],
   "source": [
    "os.getcwd() + \"\\\\data\\\\seg_train\""
   ]
  },
  {
   "cell_type": "code",
   "execution_count": 6,
   "metadata": {},
   "outputs": [
    {
     "data": {
      "text/plain": [
       "['buildings', 'forest', 'glacier', 'mountain', 'sea', 'street']"
      ]
     },
     "execution_count": 6,
     "metadata": {},
     "output_type": "execute_result"
    }
   ],
   "source": [
    "os.listdir(os.getcwd() + \"\\\\data\\\\seg_train\")"
   ]
  },
  {
   "cell_type": "code",
   "execution_count": 7,
   "metadata": {},
   "outputs": [],
   "source": [
    "IMAGE_SIZE = (32,32)\n",
    "TRAIN_PATH = os.getcwd() + \"\\\\data\\\\seg_train\"\n",
    "TEST_PATH = os.getcwd() + \"\\\\data\\\\seg_test\""
   ]
  },
  {
   "cell_type": "code",
   "execution_count": 14,
   "metadata": {},
   "outputs": [],
   "source": [
    "def read_data(path, im_size):\n",
    "    X = []\n",
    "    y = []\n",
    "\n",
    "    for folder in os.listdir(path):\n",
    "        label = class_names_label[folder]\n",
    "        folder_path = os.path.join(path, folder)\n",
    "        for file in os.listdir(folder_path):\n",
    "            image_path = os.path.join(folder_path, file)\n",
    "            try:\n",
    "                image = imread(image_path)\n",
    "                smallimage = cv2.resize(image, im_size)\n",
    "                X.append(smallimage)\n",
    "                y.append(label)\n",
    "            except:\n",
    "                print(\"Error en la lectura de la imagen\", image_path)\n",
    "            \n",
    "    return np.array(X), np.array(y)"
   ]
  },
  {
   "cell_type": "code",
   "execution_count": 9,
   "metadata": {},
   "outputs": [],
   "source": [
    "X_train, y_train = read_data(TRAIN_PATH, IMAGE_SIZE)\n",
    "X_test, y_test = read_data(TEST_PATH, IMAGE_SIZE)"
   ]
  },
  {
   "cell_type": "code",
   "execution_count": 15,
   "metadata": {},
   "outputs": [
    {
     "name": "stdout",
     "output_type": "stream",
     "text": [
      "Error en la lectura de la imagen d:\\Bootcamp\\Carpeta_profesor\\2405_dsft_thebridge\\2_Machine_Learning\\3-Deep_Learning\\2-Redes_Convolucionales\\ejercicios\\prueba\\buildings\\Clasificador_paisajes.ipynb\n"
     ]
    }
   ],
   "source": [
    "PRUEBA_PATH = os.getcwd() + \"\\\\prueba\"\n",
    "\n",
    "X_prueba, y_prueba = read_data(PRUEBA_PATH, IMAGE_SIZE)"
   ]
  },
  {
   "cell_type": "code",
   "execution_count": 11,
   "metadata": {},
   "outputs": [
    {
     "name": "stdout",
     "output_type": "stream",
     "text": [
      "(14034, 32, 32, 3)\n",
      "(3000, 32, 32, 3)\n",
      "(14034,)\n",
      "(3000,)\n"
     ]
    }
   ],
   "source": [
    "print(X_train.shape)\n",
    "print(X_test.shape)\n",
    "print(y_train.shape)\n",
    "print(y_test.shape)"
   ]
  },
  {
   "cell_type": "code",
   "execution_count": 36,
   "metadata": {},
   "outputs": [
    {
     "data": {
      "text/plain": [
       "3    2512\n",
       "2    2404\n",
       "5    2382\n",
       "4    2274\n",
       "1    2271\n",
       "0    2191\n",
       "dtype: int64"
      ]
     },
     "execution_count": 36,
     "metadata": {},
     "output_type": "execute_result"
    }
   ],
   "source": [
    "pd.Series(y_train).value_counts()"
   ]
  },
  {
   "cell_type": "code",
   "execution_count": 37,
   "metadata": {},
   "outputs": [
    {
     "data": {
      "text/plain": [
       "2    553\n",
       "3    525\n",
       "4    510\n",
       "5    501\n",
       "1    474\n",
       "0    437\n",
       "dtype: int64"
      ]
     },
     "execution_count": 37,
     "metadata": {},
     "output_type": "execute_result"
    }
   ],
   "source": [
    "pd.Series(y_test).value_counts()"
   ]
  },
  {
   "cell_type": "code",
   "execution_count": 16,
   "metadata": {},
   "outputs": [],
   "source": [
    "from sklearn.utils import shuffle\n",
    "\n",
    "X_train, y_train = shuffle(X_train, y_train, random_state=42)\n",
    "X_test, y_test= shuffle(X_test, y_test, random_state=42)"
   ]
  },
  {
   "cell_type": "code",
   "execution_count": 19,
   "metadata": {},
   "outputs": [
    {
     "data": {
      "text/plain": [
       "array([0, 5, 5, 4, 3, 2, 3, 3, 0, 5])"
      ]
     },
     "execution_count": 19,
     "metadata": {},
     "output_type": "execute_result"
    }
   ],
   "source": [
    "y_train[:10]"
   ]
  },
  {
   "cell_type": "code",
   "execution_count": 22,
   "metadata": {},
   "outputs": [
    {
     "name": "stdout",
     "output_type": "stream",
     "text": [
      "forest\n"
     ]
    },
    {
     "data": {
      "text/plain": [
       "<matplotlib.image.AxesImage at 0x27b3f05d650>"
      ]
     },
     "execution_count": 22,
     "metadata": {},
     "output_type": "execute_result"
    },
    {
     "data": {
      "image/png": "[encoded data removed]",
      "text/plain": [
       "<Figure size 640x480 with 1 Axes>"
      ]
     },
     "metadata": {},
     "output_type": "display_data"
    }
   ],
   "source": [
    "index = np.random.randint(X_train.shape[0])\n",
    "print(class_names[y_train[index]])\n",
    "plt.imshow(X_train[index])"
   ]
  },
  {
   "cell_type": "code",
   "execution_count": 23,
   "metadata": {},
   "outputs": [
    {
     "data": {
      "text/plain": [
       "array([[[[225, 225, 225],\n",
       "         [221, 223, 222],\n",
       "         [221, 223, 222],\n",
       "         ...,\n",
       "         [237, 237, 237],\n",
       "         [238, 238, 238],\n",
       "         [240, 240, 240]],\n",
       "\n",
       "        [[230, 230, 230],\n",
       "         [227, 227, 227],\n",
       "         [232, 232, 232],\n",
       "         ...,\n",
       "         [244, 244, 244],\n",
       "         [244, 244, 244],\n",
       "         [246, 246, 246]],\n",
       "\n",
       "        [[ 55,  55,  55],\n",
       "         [223, 223, 223],\n",
       "         [ 88,  87,  88],\n",
       "         ...,\n",
       "         [245, 245, 245],\n",
       "         [246, 246, 246],\n",
       "         [246, 246, 246]],\n",
       "\n",
       "        ...,\n",
       "\n",
       "        [[114, 112, 111],\n",
       "         [ 97,  96,  94],\n",
       "         [125, 123, 124],\n",
       "         ...,\n",
       "         [ 90,  89,  87],\n",
       "         [ 88,  87,  85],\n",
       "         [ 92,  91,  89]],\n",
       "\n",
       "        [[153, 152, 150],\n",
       "         [113, 112, 110],\n",
       "         [123, 121, 122],\n",
       "         ...,\n",
       "         [ 83,  82,  79],\n",
       "         [ 68,  67,  65],\n",
       "         [ 80,  79,  77]],\n",
       "\n",
       "        [[131, 130, 128],\n",
       "         [133, 132, 130],\n",
       "         [128, 126, 125],\n",
       "         ...,\n",
       "         [128, 127, 125],\n",
       "         [138, 138, 136],\n",
       "         [130, 128, 129]]],\n",
       "\n",
       "\n",
       "       [[[ 92, 157, 223],\n",
       "         [ 93, 158, 224],\n",
       "         [ 93, 158, 224],\n",
       "         ...,\n",
       "         [147, 143, 157],\n",
       "         [163,  93,  44],\n",
       "         [201, 162,  82]],\n",
       "\n",
       "        [[ 94, 162, 225],\n",
       "         [ 94, 162, 225],\n",
       "         [ 94, 162, 225],\n",
       "         ...,\n",
       "         [150, 150, 167],\n",
       "         [176, 116,  69],\n",
       "         [198, 149,  58]],\n",
       "\n",
       "        [[ 99, 164, 226],\n",
       "         [100, 166, 226],\n",
       "         [ 97, 165, 226],\n",
       "         ...,\n",
       "         [169, 173, 204],\n",
       "         [137,  60,  35],\n",
       "         [171, 109,  44]],\n",
       "\n",
       "        ...,\n",
       "\n",
       "        [[ 98,  99, 103],\n",
       "         [ 97,  98, 101],\n",
       "         [107, 108, 110],\n",
       "         ...,\n",
       "         [112,  96,  88],\n",
       "         [114,  99,  91],\n",
       "         [111,  97,  84]],\n",
       "\n",
       "        [[ 79,  84,  88],\n",
       "         [102, 106, 109],\n",
       "         [113, 114, 117],\n",
       "         ...,\n",
       "         [111,  96,  86],\n",
       "         [106,  92,  82],\n",
       "         [111,  94,  84]],\n",
       "\n",
       "        [[108, 112, 113],\n",
       "         [109, 113, 114],\n",
       "         [110, 111, 112],\n",
       "         ...,\n",
       "         [111,  95,  87],\n",
       "         [103,  89,  78],\n",
       "         [119, 105,  96]]],\n",
       "\n",
       "\n",
       "       [[[185, 126, 110],\n",
       "         [187, 129, 111],\n",
       "         [221, 202, 196],\n",
       "         ...,\n",
       "         [171, 221, 254],\n",
       "         [172, 221, 254],\n",
       "         [175, 221, 254]],\n",
       "\n",
       "        [[185, 124, 119],\n",
       "         [189, 131, 119],\n",
       "         [203, 159, 147],\n",
       "         ...,\n",
       "         [177, 224, 254],\n",
       "         [178, 225, 254],\n",
       "         [180, 226, 252]],\n",
       "\n",
       "        [[184, 128, 115],\n",
       "         [186, 127, 113],\n",
       "         [175, 133, 126],\n",
       "         ...,\n",
       "         [183, 229, 253],\n",
       "         [185, 231, 255],\n",
       "         [184, 231, 254]],\n",
       "\n",
       "        ...,\n",
       "\n",
       "        [[108,  78,  75],\n",
       "         [103,  73,  71],\n",
       "         [104,  74,  72],\n",
       "         ...,\n",
       "         [151, 121, 122],\n",
       "         [159, 129, 130],\n",
       "         [168, 145, 139]],\n",
       "\n",
       "        [[101,  71,  69],\n",
       "         [105,  75,  73],\n",
       "         [106,  76,  76],\n",
       "         ...,\n",
       "         [137, 113, 112],\n",
       "         [142, 117, 117],\n",
       "         [139, 119, 118]],\n",
       "\n",
       "        [[108,  78,  76],\n",
       "         [113,  81,  80],\n",
       "         [111,  78,  77],\n",
       "         ...,\n",
       "         [140, 115, 111],\n",
       "         [143, 117, 116],\n",
       "         [141, 116, 115]]],\n",
       "\n",
       "\n",
       "       ...,\n",
       "\n",
       "\n",
       "       [[[157, 165, 184],\n",
       "         [152, 163, 181],\n",
       "         [160, 168, 189],\n",
       "         ...,\n",
       "         [179, 191, 207],\n",
       "         [180, 192, 208],\n",
       "         [182, 194, 210]],\n",
       "\n",
       "        [[163, 173, 191],\n",
       "         [159, 170, 188],\n",
       "         [158, 166, 185],\n",
       "         ...,\n",
       "         [186, 198, 214],\n",
       "         [183, 195, 211],\n",
       "         [182, 195, 211]],\n",
       "\n",
       "        [[164, 176, 192],\n",
       "         [164, 176, 192],\n",
       "         [163, 174, 192],\n",
       "         ...,\n",
       "         [189, 201, 217],\n",
       "         [186, 198, 214],\n",
       "         [184, 196, 212]],\n",
       "\n",
       "        ...,\n",
       "\n",
       "        [[ 29,  71,  90],\n",
       "         [ 68, 107, 125],\n",
       "         [ 95, 129, 141],\n",
       "         ...,\n",
       "         [117, 165, 189],\n",
       "         [159, 193, 202],\n",
       "         [ 92, 134, 151]],\n",
       "\n",
       "        [[ 89, 126, 143],\n",
       "         [ 64, 109, 127],\n",
       "         [ 89, 130, 152],\n",
       "         ...,\n",
       "         [108, 155, 177],\n",
       "         [ 94, 148, 173],\n",
       "         [134, 173, 191]],\n",
       "\n",
       "        [[167, 191, 199],\n",
       "         [ 92, 130, 148],\n",
       "         [ 76, 120, 138],\n",
       "         ...,\n",
       "         [ 92, 137, 164],\n",
       "         [102, 149, 173],\n",
       "         [ 93, 139, 162]]],\n",
       "\n",
       "\n",
       "       [[[ 98, 147, 203],\n",
       "         [ 99, 146, 202],\n",
       "         [ 98, 145, 201],\n",
       "         ...,\n",
       "         [ 65, 116, 179],\n",
       "         [ 65, 116, 179],\n",
       "         [ 64, 115, 178]],\n",
       "\n",
       "        [[100, 149, 205],\n",
       "         [100, 147, 203],\n",
       "         [ 99, 146, 202],\n",
       "         ...,\n",
       "         [ 67, 118, 181],\n",
       "         [ 67, 118, 181],\n",
       "         [ 63, 117, 179]],\n",
       "\n",
       "        [[103, 150, 206],\n",
       "         [102, 149, 205],\n",
       "         [100, 147, 205],\n",
       "         ...,\n",
       "         [ 68, 119, 184],\n",
       "         [ 69, 120, 185],\n",
       "         [ 66, 120, 182]],\n",
       "\n",
       "        ...,\n",
       "\n",
       "        [[ 64,  73,  71],\n",
       "         [ 53,  63,  59],\n",
       "         [ 71,  81,  83],\n",
       "         ...,\n",
       "         [ 97, 109, 119],\n",
       "         [ 69,  72,  86],\n",
       "         [144, 141, 148]],\n",
       "\n",
       "        [[ 51,  61,  57],\n",
       "         [ 48,  52,  44],\n",
       "         [ 72,  81,  71],\n",
       "         ...,\n",
       "         [ 46,  50,  61],\n",
       "         [ 53,  54,  69],\n",
       "         [ 56,  58,  64]],\n",
       "\n",
       "        [[ 90, 103,  33],\n",
       "         [ 96, 104,  39],\n",
       "         [ 99, 108,  45],\n",
       "         ...,\n",
       "         [ 44,  53,  62],\n",
       "         [ 18,  17,  19],\n",
       "         [ 27,  26,  18]]],\n",
       "\n",
       "\n",
       "       [[[131, 161, 199],\n",
       "         [133, 161, 200],\n",
       "         [133, 161, 200],\n",
       "         ...,\n",
       "         [157, 177, 204],\n",
       "         [149, 172, 204],\n",
       "         [145, 170, 201]],\n",
       "\n",
       "        [[131, 161, 199],\n",
       "         [133, 161, 200],\n",
       "         [133, 161, 200],\n",
       "         ...,\n",
       "         [157, 176, 204],\n",
       "         [160, 179, 210],\n",
       "         [161, 179, 208]],\n",
       "\n",
       "        [[131, 161, 199],\n",
       "         [133, 161, 200],\n",
       "         [134, 162, 201],\n",
       "         ...,\n",
       "         [168, 184, 207],\n",
       "         [157, 174, 200],\n",
       "         [151, 172, 203]],\n",
       "\n",
       "        ...,\n",
       "\n",
       "        [[104, 122, 157],\n",
       "         [104, 123, 155],\n",
       "         [117, 135, 164],\n",
       "         ...,\n",
       "         [139, 148, 170],\n",
       "         [130, 136, 163],\n",
       "         [109, 120, 151]],\n",
       "\n",
       "        [[103, 119, 162],\n",
       "         [102, 120, 159],\n",
       "         [109, 125, 163],\n",
       "         ...,\n",
       "         [118, 133, 162],\n",
       "         [119, 126, 159],\n",
       "         [113, 121, 157]],\n",
       "\n",
       "        [[ 91, 105, 144],\n",
       "         [ 98, 111, 150],\n",
       "         [ 98, 112, 150],\n",
       "         ...,\n",
       "         [113, 128, 157],\n",
       "         [114, 129, 158],\n",
       "         [113, 127, 157]]]], dtype=uint8)"
      ]
     },
     "execution_count": 23,
     "metadata": {},
     "output_type": "execute_result"
    }
   ],
   "source": [
    "X_train"
   ]
  },
  {
   "cell_type": "code",
   "execution_count": 25,
   "metadata": {},
   "outputs": [
    {
     "name": "stdout",
     "output_type": "stream",
     "text": [
      "0\n",
      "255\n"
     ]
    }
   ],
   "source": [
    "print(X_train.min())\n",
    "print(X_train.max())"
   ]
  },
  {
   "cell_type": "code",
   "execution_count": 26,
   "metadata": {},
   "outputs": [],
   "source": [
    "X_train = X_train/255\n",
    "X_test = X_test/255"
   ]
  },
  {
   "cell_type": "code",
   "execution_count": 27,
   "metadata": {},
   "outputs": [
    {
     "name": "stdout",
     "output_type": "stream",
     "text": [
      "0.0\n",
      "1.0\n"
     ]
    }
   ],
   "source": [
    "print(X_train.min())\n",
    "print(X_train.max())"
   ]
  },
  {
   "cell_type": "code",
   "execution_count": 28,
   "metadata": {},
   "outputs": [
    {
     "data": {
      "text/plain": [
       "(14034, 32, 32, 3)"
      ]
     },
     "execution_count": 28,
     "metadata": {},
     "output_type": "execute_result"
    }
   ],
   "source": [
    "X_train.shape"
   ]
  },
  {
   "cell_type": "code",
   "execution_count": 31,
   "metadata": {},
   "outputs": [],
   "source": [
    "model = keras.Sequential([\n",
    "    keras.layers.Conv2D(64, (3,3), input_shape=(32,32,3)),\n",
    "    keras.layers.MaxPooling2D(2,2),\n",
    "    keras.layers.Conv2D(32, (3,3), input_shape=(32,32,3)),\n",
    "    keras.layers.MaxPooling2D(2,2),\n",
    "    keras.layers.Flatten(),\n",
    "    keras.layers.Dense(64),\n",
    "    keras.layers.Dense(16),\n",
    "    keras.layers.Dense(6, activation=\"softmax\")\n",
    "])"
   ]
  },
  {
   "cell_type": "code",
   "execution_count": 32,
   "metadata": {},
   "outputs": [
    {
     "name": "stdout",
     "output_type": "stream",
     "text": [
      "Model: \"sequential_1\"\n",
      "_________________________________________________________________\n",
      " Layer (type)                Output Shape              Param #   \n",
      "=================================================================\n",
      " conv2d_2 (Conv2D)           (None, 30, 30, 64)        1792      \n",
      "                                                                 \n",
      " max_pooling2d_2 (MaxPoolin  (None, 15, 15, 64)        0         \n",
      " g2D)                                                            \n",
      "                                                                 \n",
      " conv2d_3 (Conv2D)           (None, 13, 13, 32)        18464     \n",
      "                                                                 \n",
      " max_pooling2d_3 (MaxPoolin  (None, 6, 6, 32)          0         \n",
      " g2D)                                                            \n",
      "                                                                 \n",
      " flatten_1 (Flatten)         (None, 1152)              0         \n",
      "                                                                 \n",
      " dense_3 (Dense)             (None, 64)                73792     \n",
      "                                                                 \n",
      " dense_4 (Dense)             (None, 16)                1040      \n",
      "                                                                 \n",
      " dense_5 (Dense)             (None, 6)                 102       \n",
      "                                                                 \n",
      "=================================================================\n",
      "Total params: 95190 (371.84 KB)\n",
      "Trainable params: 95190 (371.84 KB)\n",
      "Non-trainable params: 0 (0.00 Byte)\n",
      "_________________________________________________________________\n"
     ]
    }
   ],
   "source": [
    "model.summary()"
   ]
  },
  {
   "cell_type": "code",
   "execution_count": 34,
   "metadata": {},
   "outputs": [
    {
     "data": {
      "text/plain": [
       "1792"
      ]
     },
     "execution_count": 34,
     "metadata": {},
     "output_type": "execute_result"
    }
   ],
   "source": [
    "64 * (3*3) * 3 + 64"
   ]
  },
  {
   "cell_type": "code",
   "execution_count": 35,
   "metadata": {},
   "outputs": [
    {
     "data": {
      "text/plain": [
       "18464"
      ]
     },
     "execution_count": 35,
     "metadata": {},
     "output_type": "execute_result"
    }
   ],
   "source": [
    "32 * (3*3) * 64 + 32"
   ]
  },
  {
   "cell_type": "code",
   "execution_count": 39,
   "metadata": {},
   "outputs": [],
   "source": [
    "model.compile(optimizer=\"adam\",\n",
    "              loss=\"sparse_categorical_crossentropy\",\n",
    "              metrics=['accuracy'])"
   ]
  },
  {
   "cell_type": "code",
   "execution_count": 41,
   "metadata": {},
   "outputs": [
    {
     "data": {
      "text/plain": [
       "87.7125"
      ]
     },
     "execution_count": 41,
     "metadata": {},
     "output_type": "execute_result"
    }
   ],
   "source": [
    "14034 * 0.8 / 128"
   ]
  },
  {
   "cell_type": "code",
   "execution_count": 42,
   "metadata": {},
   "outputs": [
    {
     "name": "stdout",
     "output_type": "stream",
     "text": [
      "Epoch 1/20\n",
      "WARNING:tensorflow:From c:\\Users\\Miguel Angel\\AppData\\Local\\Programs\\Python\\Python311\\Lib\\site-packages\\keras\\src\\utils\\tf_utils.py:492: The name tf.ragged.RaggedTensorValue is deprecated. Please use tf.compat.v1.ragged.RaggedTensorValue instead.\n",
      "\n",
      "WARNING:tensorflow:From c:\\Users\\Miguel Angel\\AppData\\Local\\Programs\\Python\\Python311\\Lib\\site-packages\\keras\\src\\engine\\base_layer_utils.py:384: The name tf.executing_eagerly_outside_functions is deprecated. Please use tf.compat.v1.executing_eagerly_outside_functions instead.\n",
      "\n",
      "88/88 [==============================] - 9s 81ms/step - loss: 1.2099 - accuracy: 0.5253 - val_loss: 1.0417 - val_accuracy: 0.5907\n",
      "Epoch 2/20\n",
      "88/88 [==============================] - 6s 73ms/step - loss: 0.9460 - accuracy: 0.6463 - val_loss: 0.8879 - val_accuracy: 0.6651\n",
      "Epoch 3/20\n",
      "88/88 [==============================] - 7s 80ms/step - loss: 0.8511 - accuracy: 0.6882 - val_loss: 0.8751 - val_accuracy: 0.6669\n",
      "Epoch 4/20\n",
      "88/88 [==============================] - 7s 76ms/step - loss: 0.8022 - accuracy: 0.7063 - val_loss: 0.8360 - val_accuracy: 0.6926\n",
      "Epoch 5/20\n",
      "88/88 [==============================] - 7s 79ms/step - loss: 0.7796 - accuracy: 0.7183 - val_loss: 0.8360 - val_accuracy: 0.6915\n",
      "Epoch 6/20\n",
      "88/88 [==============================] - 7s 79ms/step - loss: 0.7268 - accuracy: 0.7391 - val_loss: 0.7960 - val_accuracy: 0.7146\n",
      "Epoch 7/20\n",
      "88/88 [==============================] - 6s 71ms/step - loss: 0.6984 - accuracy: 0.7494 - val_loss: 0.8122 - val_accuracy: 0.7029\n",
      "Epoch 8/20\n",
      "88/88 [==============================] - 6s 72ms/step - loss: 0.6951 - accuracy: 0.7506 - val_loss: 0.8769 - val_accuracy: 0.6733\n",
      "Epoch 9/20\n",
      "88/88 [==============================] - 7s 75ms/step - loss: 0.6552 - accuracy: 0.7605 - val_loss: 0.7900 - val_accuracy: 0.7196\n",
      "Epoch 10/20\n",
      "88/88 [==============================] - 6s 72ms/step - loss: 0.6099 - accuracy: 0.7816 - val_loss: 0.8418 - val_accuracy: 0.6979\n",
      "Epoch 11/20\n",
      "88/88 [==============================] - 6s 73ms/step - loss: 0.5895 - accuracy: 0.7857 - val_loss: 0.8040 - val_accuracy: 0.7082\n",
      "Epoch 12/20\n",
      "88/88 [==============================] - 7s 74ms/step - loss: 0.5709 - accuracy: 0.7976 - val_loss: 0.8755 - val_accuracy: 0.6983\n",
      "Epoch 13/20\n",
      "88/88 [==============================] - 8s 88ms/step - loss: 0.5373 - accuracy: 0.8098 - val_loss: 0.8432 - val_accuracy: 0.7243\n",
      "Epoch 14/20\n",
      "88/88 [==============================] - 7s 78ms/step - loss: 0.5206 - accuracy: 0.8167 - val_loss: 0.8612 - val_accuracy: 0.7068\n",
      "Epoch 15/20\n",
      "88/88 [==============================] - 7s 76ms/step - loss: 0.4971 - accuracy: 0.8201 - val_loss: 0.8800 - val_accuracy: 0.7022\n",
      "Epoch 16/20\n",
      "88/88 [==============================] - 7s 75ms/step - loss: 0.4723 - accuracy: 0.8366 - val_loss: 0.9965 - val_accuracy: 0.6801\n",
      "Epoch 17/20\n",
      "88/88 [==============================] - 6s 74ms/step - loss: 0.4598 - accuracy: 0.8362 - val_loss: 0.9406 - val_accuracy: 0.7000\n",
      "Epoch 18/20\n",
      "88/88 [==============================] - 7s 77ms/step - loss: 0.4352 - accuracy: 0.8444 - val_loss: 0.9717 - val_accuracy: 0.6943\n",
      "Epoch 19/20\n",
      "88/88 [==============================] - 6s 74ms/step - loss: 0.4163 - accuracy: 0.8521 - val_loss: 0.9911 - val_accuracy: 0.6950\n",
      "Epoch 20/20\n",
      "88/88 [==============================] - 8s 88ms/step - loss: 0.3860 - accuracy: 0.8666 - val_loss: 1.0509 - val_accuracy: 0.6890\n"
     ]
    }
   ],
   "source": [
    "history = model.fit(X_train,\n",
    "                    y_train,\n",
    "                    batch_size=128,\n",
    "                    epochs=20,\n",
    "                    validation_split=0.2)"
   ]
  },
  {
   "cell_type": "code",
   "execution_count": 48,
   "metadata": {},
   "outputs": [
    {
     "data": {
      "text/plain": [
       "<matplotlib.legend.Legend at 0x27b3ec017d0>"
      ]
     },
     "execution_count": 48,
     "metadata": {},
     "output_type": "execute_result"
    },
    {
     "data": {
      "image/png": "[encoded data removed]",
      "text/plain": [
       "<Figure size 640x480 with 1 Axes>"
      ]
     },
     "metadata": {},
     "output_type": "display_data"
    }
   ],
   "source": [
    "df_hist = pd.DataFrame(history.history, index=np.arange(1,21))\n",
    "plt.plot(df_hist['val_loss'], label=\"Val loss\")\n",
    "plt.plot(df_hist['loss'], label=\"Train loss\")\n",
    "plt.title(\"Training CNN\")\n",
    "plt.xlabel(\"Epochs\")\n",
    "plt.ylabel(\"Función de coste\")\n",
    "plt.xticks(np.arange(1,21));\n",
    "plt.legend()"
   ]
  },
  {
   "cell_type": "code",
   "execution_count": 50,
   "metadata": {},
   "outputs": [
    {
     "name": "stdout",
     "output_type": "stream",
     "text": [
      "94/94 [==============================] - 1s 6ms/step - loss: 1.0360 - accuracy: 0.6960\n"
     ]
    }
   ],
   "source": [
    "results = model.evaluate(X_test, y_test)"
   ]
  },
  {
   "cell_type": "code",
   "execution_count": 51,
   "metadata": {},
   "outputs": [],
   "source": [
    "IMAGE_SIZE = (64,64)"
   ]
  },
  {
   "cell_type": "code",
   "execution_count": 52,
   "metadata": {},
   "outputs": [],
   "source": [
    "X_train, y_train = read_data(TRAIN_PATH, IMAGE_SIZE)\n",
    "X_test, y_test = read_data(TEST_PATH, IMAGE_SIZE)"
   ]
  },
  {
   "cell_type": "code",
   "execution_count": 53,
   "metadata": {},
   "outputs": [],
   "source": [
    "X_train, y_train = shuffle(X_train, y_train, random_state=42)\n",
    "X_test, y_test= shuffle(X_test, y_test, random_state=42)"
   ]
  },
  {
   "cell_type": "code",
   "execution_count": 54,
   "metadata": {},
   "outputs": [],
   "source": [
    "X_train = X_train/255\n",
    "X_test = X_test/255"
   ]
  },
  {
   "cell_type": "code",
   "execution_count": 55,
   "metadata": {},
   "outputs": [
    {
     "name": "stdout",
     "output_type": "stream",
     "text": [
      "(14034, 64, 64, 3)\n"
     ]
    }
   ],
   "source": [
    "print(X_train.shape)"
   ]
  },
  {
   "cell_type": "code",
   "execution_count": 56,
   "metadata": {},
   "outputs": [],
   "source": [
    "model = keras.Sequential([\n",
    "    keras.layers.Conv2D(64, (3,3), input_shape=(64,64,3)),\n",
    "    keras.layers.MaxPooling2D(2,2),\n",
    "    keras.layers.Conv2D(32, (3,3)),\n",
    "    keras.layers.MaxPooling2D(2,2),\n",
    "    keras.layers.Conv2D(32, (3,3)),\n",
    "    keras.layers.MaxPooling2D(2,2),\n",
    "    keras.layers.Flatten(),\n",
    "    keras.layers.Dense(64),\n",
    "    keras.layers.Dropout(0.25),\n",
    "    keras.layers.Dense(16),\n",
    "    keras.layers.Dropout(0.25),\n",
    "    keras.layers.Dense(6, activation=\"softmax\")\n",
    "])"
   ]
  },
  {
   "cell_type": "code",
   "execution_count": 57,
   "metadata": {},
   "outputs": [],
   "source": [
    "model.compile(optimizer=\"adam\",\n",
    "              loss=\"sparse_categorical_crossentropy\",\n",
    "              metrics=['accuracy'])"
   ]
  },
  {
   "cell_type": "code",
   "execution_count": 58,
   "metadata": {},
   "outputs": [],
   "source": [
    "early_stopping = keras.callbacks.EarlyStopping(patience=5)"
   ]
  },
  {
   "cell_type": "code",
   "execution_count": 59,
   "metadata": {},
   "outputs": [
    {
     "name": "stdout",
     "output_type": "stream",
     "text": [
      "Epoch 1/20\n",
      "88/88 [==============================] - 30s 320ms/step - loss: 1.3500 - accuracy: 0.4814 - val_loss: 1.1012 - val_accuracy: 0.5846\n",
      "Epoch 2/20\n",
      "88/88 [==============================] - 26s 297ms/step - loss: 1.0449 - accuracy: 0.6139 - val_loss: 0.8885 - val_accuracy: 0.6797\n",
      "Epoch 3/20\n",
      "88/88 [==============================] - 28s 323ms/step - loss: 0.9467 - accuracy: 0.6523 - val_loss: 0.8453 - val_accuracy: 0.6933\n",
      "Epoch 4/20\n",
      "88/88 [==============================] - 30s 338ms/step - loss: 0.8901 - accuracy: 0.6737 - val_loss: 0.8324 - val_accuracy: 0.7136\n",
      "Epoch 5/20\n",
      "88/88 [==============================] - 31s 357ms/step - loss: 0.8153 - accuracy: 0.7070 - val_loss: 0.8130 - val_accuracy: 0.6872\n",
      "Epoch 6/20\n",
      "88/88 [==============================] - 29s 334ms/step - loss: 0.7554 - accuracy: 0.7268 - val_loss: 0.8100 - val_accuracy: 0.7079\n",
      "Epoch 7/20\n",
      "88/88 [==============================] - 27s 309ms/step - loss: 0.7498 - accuracy: 0.7286 - val_loss: 0.7582 - val_accuracy: 0.7360\n",
      "Epoch 8/20\n",
      "88/88 [==============================] - 29s 331ms/step - loss: 0.6963 - accuracy: 0.7541 - val_loss: 0.7286 - val_accuracy: 0.7431\n",
      "Epoch 9/20\n",
      "88/88 [==============================] - 30s 346ms/step - loss: 0.6699 - accuracy: 0.7633 - val_loss: 0.7249 - val_accuracy: 0.7463\n",
      "Epoch 10/20\n",
      "88/88 [==============================] - 30s 345ms/step - loss: 0.6304 - accuracy: 0.7738 - val_loss: 0.7509 - val_accuracy: 0.7346\n",
      "Epoch 11/20\n",
      "88/88 [==============================] - 30s 343ms/step - loss: 0.6300 - accuracy: 0.7726 - val_loss: 0.7281 - val_accuracy: 0.7460\n",
      "Epoch 12/20\n",
      "88/88 [==============================] - 26s 296ms/step - loss: 0.5846 - accuracy: 0.7914 - val_loss: 0.7465 - val_accuracy: 0.7488\n",
      "Epoch 13/20\n",
      "88/88 [==============================] - 26s 290ms/step - loss: 0.5637 - accuracy: 0.7958 - val_loss: 0.7411 - val_accuracy: 0.7417\n",
      "Epoch 14/20\n",
      "88/88 [==============================] - 25s 289ms/step - loss: 0.5269 - accuracy: 0.8148 - val_loss: 0.7808 - val_accuracy: 0.7510\n"
     ]
    }
   ],
   "source": [
    "history = model.fit(X_train,\n",
    "                    y_train,\n",
    "                    batch_size=128,\n",
    "                    epochs=20,\n",
    "                    validation_split=0.2,\n",
    "                    callbacks = [early_stopping])"
   ]
  },
  {
   "cell_type": "code",
   "execution_count": 60,
   "metadata": {},
   "outputs": [
    {
     "data": {
      "text/plain": [
       "<matplotlib.legend.Legend at 0x27b41529590>"
      ]
     },
     "execution_count": 60,
     "metadata": {},
     "output_type": "execute_result"
    },
    {
     "data": {
      "image/png": "[encoded data removed]",
      "text/plain": [
       "<Figure size 640x480 with 1 Axes>"
      ]
     },
     "metadata": {},
     "output_type": "display_data"
    }
   ],
   "source": [
    "df_hist = pd.DataFrame(history.history, index=np.arange(1,15))\n",
    "plt.plot(df_hist['val_loss'], label=\"Val loss\")\n",
    "plt.plot(df_hist['loss'], label=\"Train loss\")\n",
    "plt.title(\"Training CNN\")\n",
    "plt.xlabel(\"Epochs\")\n",
    "plt.ylabel(\"Función de coste\")\n",
    "plt.xticks(np.arange(1,15));\n",
    "plt.legend()"
   ]
  },
  {
   "cell_type": "code",
   "execution_count": 61,
   "metadata": {},
   "outputs": [
    {
     "name": "stdout",
     "output_type": "stream",
     "text": [
      "94/94 [==============================] - 2s 19ms/step - loss: 0.7640 - accuracy: 0.7447\n"
     ]
    }
   ],
   "source": [
    "results = model.evaluate(X_test, y_test)"
   ]
  },
  {
   "cell_type": "code",
   "execution_count": 62,
   "metadata": {},
   "outputs": [
    {
     "name": "stdout",
     "output_type": "stream",
     "text": [
      "94/94 [==============================] - 2s 18ms/step\n"
     ]
    },
    {
     "data": {
      "text/plain": [
       "array([[0.03, 0.  , 0.48, 0.47, 0.02, 0.  ],\n",
       "       [0.  , 0.  , 0.9 , 0.01, 0.08, 0.01],\n",
       "       [0.  , 0.  , 0.01, 0.59, 0.4 , 0.  ],\n",
       "       ...,\n",
       "       [0.  , 0.  , 0.16, 0.52, 0.32, 0.  ],\n",
       "       [0.  , 0.  , 0.01, 0.03, 0.96, 0.  ],\n",
       "       [0.02, 0.27, 0.22, 0.01, 0.01, 0.46]], dtype=float32)"
      ]
     },
     "execution_count": 62,
     "metadata": {},
     "output_type": "execute_result"
    }
   ],
   "source": [
    "y_pred = model.predict(X_test)\n",
    "y_pred.round(2)"
   ]
  },
  {
   "cell_type": "code",
   "execution_count": 63,
   "metadata": {},
   "outputs": [
    {
     "name": "stdout",
     "output_type": "stream",
     "text": [
      "mountain\n"
     ]
    },
    {
     "data": {
      "text/plain": [
       "<matplotlib.image.AxesImage at 0x27b41650850>"
      ]
     },
     "execution_count": 63,
     "metadata": {},
     "output_type": "execute_result"
    },
    {
     "data": {
      "image/png": "[encoded data removed]",
      "text/plain": [
       "<Figure size 640x480 with 1 Axes>"
      ]
     },
     "metadata": {},
     "output_type": "display_data"
    }
   ],
   "source": [
    "print(class_names[y_test[0]])\n",
    "plt.imshow(X_test[0])"
   ]
  },
  {
   "cell_type": "code",
   "execution_count": 64,
   "metadata": {},
   "outputs": [
    {
     "data": {
      "text/plain": [
       "['buildings', 'forest', 'glacier', 'mountain', 'sea', 'street']"
      ]
     },
     "execution_count": 64,
     "metadata": {},
     "output_type": "execute_result"
    }
   ],
   "source": [
    "class_names"
   ]
  },
  {
   "cell_type": "code",
   "execution_count": 65,
   "metadata": {},
   "outputs": [
    {
     "name": "stdout",
     "output_type": "stream",
     "text": [
      "[2 2 3 ... 3 4 5]\n",
      "['glacier', 'glacier', 'mountain', 'buildings', 'street', 'glacier', 'glacier', 'sea', 'buildings', 'street', 'sea', 'buildings', 'street', 'sea', 'street', 'forest', 'glacier', 'forest', 'street', 'sea', 'street', 'buildings', 'glacier', 'glacier', 'glacier', 'glacier', 'glacier', 'glacier', 'buildings', 'glacier', 'glacier', 'mountain', 'forest', 'street', 'buildings', 'forest', 'glacier', 'street', 'street', 'glacier', 'mountain', 'buildings', 'buildings', 'forest', 'glacier', 'mountain', 'sea', 'sea', 'buildings', 'glacier', 'glacier', 'sea', 'buildings', 'mountain', 'buildings', 'street', 'glacier', 'forest', 'buildings', 'glacier', 'forest', 'forest', 'street', 'street', 'street', 'glacier', 'glacier', 'glacier', 'street', 'forest', 'mountain', 'street', 'street', 'mountain', 'glacier', 'forest', 'sea', 'street', 'sea', 'mountain', 'mountain', 'sea', 'forest', 'glacier', 'buildings', 'buildings', 'street', 'glacier', 'mountain', 'street', 'buildings', 'mountain', 'sea', 'glacier', 'sea', 'buildings', 'street', 'sea', 'street', 'glacier', 'sea', 'street', 'forest', 'mountain', 'glacier', 'street', 'glacier', 'buildings', 'buildings', 'glacier', 'street', 'street', 'street', 'street', 'forest', 'sea', 'buildings', 'buildings', 'mountain', 'mountain', 'buildings', 'glacier', 'forest', 'mountain', 'glacier', 'sea', 'sea', 'forest', 'forest', 'glacier', 'sea', 'glacier', 'mountain', 'mountain', 'glacier', 'buildings', 'sea', 'sea', 'glacier', 'sea', 'street', 'glacier', 'glacier', 'sea', 'buildings', 'forest', 'sea', 'sea', 'sea', 'sea', 'mountain', 'street', 'street', 'sea', 'street', 'mountain', 'street', 'buildings', 'mountain', 'street', 'sea', 'mountain', 'buildings', 'forest', 'mountain', 'glacier', 'buildings', 'street', 'mountain', 'forest', 'street', 'street', 'mountain', 'forest', 'street', 'sea', 'sea', 'mountain', 'forest', 'mountain', 'street', 'street', 'mountain', 'street', 'sea', 'buildings', 'buildings', 'sea', 'glacier', 'glacier', 'forest', 'mountain', 'mountain', 'street', 'glacier', 'street', 'street', 'street', 'forest', 'street', 'glacier', 'sea', 'street', 'street', 'mountain', 'glacier', 'sea', 'sea', 'forest', 'sea', 'sea', 'sea', 'glacier', 'sea', 'forest', 'buildings', 'buildings', 'buildings', 'mountain', 'sea', 'glacier', 'sea', 'forest', 'street', 'street', 'forest', 'buildings', 'sea', 'street', 'street', 'glacier', 'mountain', 'street', 'buildings', 'sea', 'mountain', 'forest', 'mountain', 'street', 'forest', 'sea', 'forest', 'sea', 'mountain', 'buildings', 'forest', 'glacier', 'forest', 'forest', 'street', 'glacier', 'glacier', 'buildings', 'glacier', 'street', 'street', 'mountain', 'street', 'sea', 'sea', 'glacier', 'sea', 'buildings', 'sea', 'forest', 'sea', 'street', 'street', 'street', 'street', 'mountain', 'glacier', 'glacier', 'forest', 'glacier', 'glacier', 'street', 'mountain', 'glacier', 'buildings', 'glacier', 'street', 'forest', 'forest', 'mountain', 'sea', 'sea', 'street', 'buildings', 'forest', 'street', 'street', 'glacier', 'glacier', 'glacier', 'sea', 'forest', 'street', 'street', 'sea', 'buildings', 'glacier', 'buildings', 'glacier', 'street', 'forest', 'glacier', 'mountain', 'mountain', 'glacier', 'buildings', 'forest', 'buildings', 'glacier', 'mountain', 'sea', 'forest', 'street', 'mountain', 'mountain', 'glacier', 'forest', 'sea', 'sea', 'glacier', 'mountain', 'buildings', 'sea', 'street', 'sea', 'forest', 'glacier', 'mountain', 'glacier', 'glacier', 'street', 'sea', 'glacier', 'sea', 'glacier', 'street', 'buildings', 'glacier', 'street', 'forest', 'mountain', 'street', 'street', 'mountain', 'buildings', 'sea', 'sea', 'buildings', 'glacier', 'street', 'street', 'street', 'forest', 'street', 'mountain', 'street', 'sea', 'sea', 'buildings', 'street', 'forest', 'glacier', 'sea', 'mountain', 'sea', 'buildings', 'forest', 'sea', 'glacier', 'buildings', 'mountain', 'mountain', 'mountain', 'buildings', 'glacier', 'forest', 'sea', 'street', 'forest', 'buildings', 'glacier', 'glacier', 'forest', 'street', 'glacier', 'mountain', 'mountain', 'glacier', 'buildings', 'glacier', 'mountain', 'forest', 'forest', 'sea', 'street', 'forest', 'street', 'mountain', 'street', 'street', 'mountain', 'buildings', 'street', 'forest', 'sea', 'glacier', 'buildings', 'glacier', 'glacier', 'buildings', 'glacier', 'glacier', 'mountain', 'mountain', 'mountain', 'buildings', 'buildings', 'glacier', 'glacier', 'forest', 'glacier', 'forest', 'forest', 'forest', 'forest', 'sea', 'buildings', 'street', 'glacier', 'mountain', 'glacier', 'glacier', 'mountain', 'sea', 'glacier', 'street', 'mountain', 'sea', 'mountain', 'sea', 'street', 'sea', 'street', 'buildings', 'street', 'street', 'glacier', 'street', 'glacier', 'mountain', 'buildings', 'glacier', 'buildings', 'street', 'buildings', 'glacier', 'forest', 'mountain', 'buildings', 'glacier', 'glacier', 'forest', 'forest', 'buildings', 'sea', 'street', 'glacier', 'glacier', 'buildings', 'street', 'street', 'sea', 'street', 'glacier', 'glacier', 'glacier', 'buildings', 'sea', 'sea', 'glacier', 'sea', 'sea', 'sea', 'street', 'street', 'forest', 'buildings', 'street', 'glacier', 'mountain', 'forest', 'forest', 'sea', 'buildings', 'street', 'mountain', 'forest', 'glacier', 'sea', 'buildings', 'sea', 'sea', 'glacier', 'buildings', 'glacier', 'street', 'street', 'forest', 'glacier', 'forest', 'glacier', 'glacier', 'forest', 'mountain', 'sea', 'buildings', 'mountain', 'glacier', 'forest', 'glacier', 'mountain', 'forest', 'sea', 'mountain', 'street', 'sea', 'sea', 'glacier', 'buildings', 'buildings', 'sea', 'mountain', 'street', 'glacier', 'glacier', 'glacier', 'mountain', 'buildings', 'mountain', 'street', 'glacier', 'street', 'sea', 'street', 'glacier', 'sea', 'sea', 'forest', 'mountain', 'street', 'sea', 'street', 'buildings', 'buildings', 'forest', 'street', 'sea', 'sea', 'forest', 'forest', 'glacier', 'sea', 'forest', 'sea', 'sea', 'forest', 'street', 'street', 'glacier', 'glacier', 'buildings', 'mountain', 'forest', 'mountain', 'buildings', 'street', 'buildings', 'street', 'street', 'buildings', 'mountain', 'street', 'mountain', 'forest', 'mountain', 'street', 'street', 'street', 'glacier', 'glacier', 'street', 'sea', 'forest', 'mountain', 'glacier', 'forest', 'forest', 'street', 'mountain', 'sea', 'glacier', 'forest', 'mountain', 'street', 'sea', 'buildings', 'forest', 'street', 'glacier', 'mountain', 'street', 'mountain', 'glacier', 'buildings', 'buildings', 'street', 'buildings', 'sea', 'mountain', 'street', 'buildings', 'forest', 'mountain', 'glacier', 'forest', 'forest', 'street', 'forest', 'sea', 'street', 'forest', 'street', 'forest', 'street', 'glacier', 'mountain', 'glacier', 'glacier', 'street', 'glacier', 'glacier', 'street', 'buildings', 'forest', 'street', 'sea', 'street', 'street', 'street', 'buildings', 'sea', 'glacier', 'sea', 'glacier', 'street', 'forest', 'buildings', 'sea', 'forest', 'forest', 'sea', 'street', 'forest', 'glacier', 'mountain', 'sea', 'mountain', 'forest', 'sea', 'forest', 'street', 'glacier', 'forest', 'sea', 'glacier', 'sea', 'sea', 'street', 'glacier', 'forest', 'sea', 'glacier', 'mountain', 'mountain', 'glacier', 'sea', 'street', 'glacier', 'glacier', 'street', 'street', 'sea', 'sea', 'sea', 'glacier', 'buildings', 'mountain', 'buildings', 'sea', 'buildings', 'sea', 'street', 'buildings', 'buildings', 'street', 'mountain', 'glacier', 'forest', 'glacier', 'glacier', 'mountain', 'glacier', 'glacier', 'forest', 'glacier', 'mountain', 'mountain', 'sea', 'forest', 'glacier', 'glacier', 'street', 'mountain', 'sea', 'forest', 'street', 'mountain', 'street', 'street', 'glacier', 'sea', 'buildings', 'street', 'glacier', 'street', 'forest', 'glacier', 'buildings', 'glacier', 'street', 'street', 'mountain', 'street', 'sea', 'street', 'street', 'buildings', 'glacier', 'glacier', 'forest', 'street', 'forest', 'forest', 'sea', 'forest', 'glacier', 'street', 'forest', 'sea', 'street', 'forest', 'glacier', 'street', 'street', 'glacier', 'mountain', 'forest', 'sea', 'glacier', 'buildings', 'forest', 'glacier', 'street', 'street', 'street', 'buildings', 'glacier', 'sea', 'forest', 'glacier', 'forest', 'street', 'sea', 'sea', 'glacier', 'mountain', 'mountain', 'forest', 'forest', 'mountain', 'mountain', 'street', 'glacier', 'street', 'street', 'forest', 'buildings', 'glacier', 'street', 'glacier', 'sea', 'sea', 'buildings', 'glacier', 'sea', 'forest', 'glacier', 'glacier', 'street', 'glacier', 'street', 'sea', 'buildings', 'sea', 'forest', 'sea', 'forest', 'glacier', 'buildings', 'street', 'mountain', 'sea', 'glacier', 'sea', 'mountain', 'street', 'glacier', 'forest', 'glacier', 'forest', 'buildings', 'buildings', 'sea', 'street', 'street', 'sea', 'street', 'street', 'sea', 'glacier', 'buildings', 'street', 'glacier', 'sea', 'glacier', 'mountain', 'mountain', 'sea', 'mountain', 'glacier', 'glacier', 'sea', 'mountain', 'glacier', 'sea', 'street', 'forest', 'forest', 'glacier', 'forest', 'sea', 'forest', 'sea', 'buildings', 'street', 'forest', 'forest', 'street', 'sea', 'forest', 'forest', 'mountain', 'mountain', 'mountain', 'forest', 'buildings', 'mountain', 'glacier', 'sea', 'street', 'street', 'mountain', 'street', 'forest', 'mountain', 'glacier', 'street', 'sea', 'forest', 'glacier', 'sea', 'street', 'sea', 'street', 'buildings', 'forest', 'forest', 'street', 'buildings', 'mountain', 'glacier', 'forest', 'glacier', 'buildings', 'street', 'sea', 'street', 'glacier', 'buildings', 'street', 'sea', 'sea', 'street', 'glacier', 'street', 'glacier', 'buildings', 'glacier', 'buildings', 'sea', 'glacier', 'sea', 'mountain', 'glacier', 'sea', 'buildings', 'glacier', 'sea', 'mountain', 'glacier', 'mountain', 'mountain', 'glacier', 'sea', 'glacier', 'street', 'buildings', 'glacier', 'glacier', 'glacier', 'glacier', 'forest', 'street', 'mountain', 'sea', 'mountain', 'mountain', 'street', 'street', 'sea', 'forest', 'mountain', 'street', 'forest', 'street', 'glacier', 'glacier', 'forest', 'street', 'street', 'sea', 'sea', 'forest', 'glacier', 'glacier', 'street', 'mountain', 'forest', 'sea', 'street', 'sea', 'mountain', 'sea', 'sea', 'forest', 'forest', 'street', 'sea', 'mountain', 'sea', 'sea', 'sea', 'forest', 'forest', 'glacier', 'buildings', 'buildings', 'mountain', 'sea', 'sea', 'forest', 'buildings', 'glacier', 'glacier', 'glacier', 'street', 'forest', 'glacier', 'buildings', 'buildings', 'sea', 'sea', 'forest', 'sea', 'street', 'glacier', 'sea', 'buildings', 'glacier', 'street', 'glacier', 'forest', 'glacier', 'glacier', 'mountain', 'glacier', 'glacier', 'sea', 'sea', 'street', 'buildings', 'glacier', 'glacier', 'forest', 'glacier', 'street', 'sea', 'glacier', 'buildings', 'mountain', 'mountain', 'forest', 'sea', 'glacier', 'street', 'sea', 'sea', 'glacier', 'forest', 'sea', 'street', 'mountain', 'buildings', 'mountain', 'glacier', 'street', 'mountain', 'street', 'glacier', 'sea', 'sea', 'sea', 'sea', 'buildings', 'glacier', 'sea', 'glacier', 'glacier', 'glacier', 'sea', 'mountain', 'sea', 'street', 'street', 'sea', 'buildings', 'sea', 'sea', 'glacier', 'buildings', 'mountain', 'glacier', 'forest', 'sea', 'buildings', 'street', 'sea', 'glacier', 'sea', 'forest', 'mountain', 'street', 'street', 'glacier', 'glacier', 'sea', 'forest', 'mountain', 'forest', 'mountain', 'glacier', 'glacier', 'forest', 'sea', 'glacier', 'buildings', 'buildings', 'sea', 'buildings', 'street', 'sea', 'street', 'street', 'glacier', 'mountain', 'buildings', 'buildings', 'glacier', 'glacier', 'glacier', 'street', 'sea', 'street', 'street', 'glacier', 'sea', 'street', 'street', 'street', 'forest', 'glacier', 'buildings', 'sea', 'buildings', 'mountain', 'sea', 'street', 'sea', 'forest', 'mountain', 'mountain', 'glacier', 'street', 'forest', 'sea', 'glacier', 'mountain', 'street', 'glacier', 'forest', 'mountain', 'street', 'mountain', 'mountain', 'mountain', 'mountain', 'sea', 'forest', 'buildings', 'mountain', 'forest', 'forest', 'glacier', 'street', 'buildings', 'buildings', 'sea', 'mountain', 'glacier', 'glacier', 'sea', 'sea', 'sea', 'sea', 'forest', 'street', 'glacier', 'glacier', 'sea', 'forest', 'sea', 'mountain', 'street', 'street', 'street', 'buildings', 'forest', 'forest', 'street', 'street', 'forest', 'glacier', 'forest', 'glacier', 'buildings', 'sea', 'mountain', 'forest', 'sea', 'glacier', 'street', 'buildings', 'forest', 'buildings', 'buildings', 'forest', 'street', 'glacier', 'forest', 'sea', 'sea', 'glacier', 'glacier', 'street', 'street', 'forest', 'forest', 'street', 'forest', 'street', 'mountain', 'street', 'buildings', 'street', 'glacier', 'sea', 'glacier', 'buildings', 'sea', 'glacier', 'glacier', 'street', 'forest', 'buildings', 'glacier', 'street', 'buildings', 'mountain', 'sea', 'buildings', 'mountain', 'buildings', 'street', 'buildings', 'buildings', 'sea', 'street', 'sea', 'forest', 'street', 'glacier', 'buildings', 'glacier', 'glacier', 'sea', 'street', 'street', 'mountain', 'street', 'forest', 'glacier', 'sea', 'forest', 'glacier', 'forest', 'mountain', 'glacier', 'sea', 'buildings', 'sea', 'sea', 'forest', 'glacier', 'sea', 'sea', 'street', 'street', 'buildings', 'buildings', 'sea', 'glacier', 'street', 'sea', 'sea', 'mountain', 'forest', 'glacier', 'sea', 'street', 'buildings', 'sea', 'glacier', 'glacier', 'street', 'forest', 'street', 'forest', 'glacier', 'forest', 'street', 'sea', 'street', 'buildings', 'glacier', 'buildings', 'glacier', 'forest', 'forest', 'street', 'sea', 'glacier', 'street', 'forest', 'glacier', 'street', 'forest', 'sea', 'glacier', 'glacier', 'sea', 'glacier', 'sea', 'buildings', 'buildings', 'sea', 'street', 'glacier', 'mountain', 'mountain', 'street', 'mountain', 'glacier', 'buildings', 'forest', 'glacier', 'forest', 'sea', 'forest', 'buildings', 'mountain', 'sea', 'street', 'street', 'sea', 'mountain', 'street', 'forest', 'sea', 'buildings', 'street', 'glacier', 'forest', 'mountain', 'mountain', 'street', 'buildings', 'glacier', 'street', 'street', 'forest', 'street', 'forest', 'street', 'glacier', 'street', 'buildings', 'mountain', 'sea', 'buildings', 'sea', 'forest', 'buildings', 'glacier', 'mountain', 'sea', 'buildings', 'mountain', 'glacier', 'glacier', 'forest', 'glacier', 'street', 'buildings', 'glacier', 'mountain', 'glacier', 'mountain', 'forest', 'glacier', 'street', 'street', 'forest', 'sea', 'street', 'glacier', 'street', 'forest', 'sea', 'forest', 'street', 'glacier', 'glacier', 'mountain', 'sea', 'street', 'street', 'mountain', 'street', 'glacier', 'buildings', 'forest', 'glacier', 'glacier', 'sea', 'glacier', 'sea', 'buildings', 'forest', 'glacier', 'sea', 'street', 'glacier', 'street', 'glacier', 'mountain', 'buildings', 'street', 'glacier', 'street', 'glacier', 'forest', 'sea', 'sea', 'street', 'forest', 'street', 'glacier', 'sea', 'street', 'mountain', 'sea', 'glacier', 'mountain', 'glacier', 'mountain', 'sea', 'forest', 'street', 'buildings', 'mountain', 'glacier', 'sea', 'mountain', 'glacier', 'sea', 'mountain', 'street', 'street', 'glacier', 'sea', 'forest', 'glacier', 'glacier', 'buildings', 'glacier', 'buildings', 'glacier', 'street', 'glacier', 'mountain', 'mountain', 'glacier', 'mountain', 'forest', 'street', 'buildings', 'buildings', 'forest', 'mountain', 'street', 'mountain', 'forest', 'street', 'sea', 'glacier', 'glacier', 'forest', 'buildings', 'glacier', 'forest', 'mountain', 'glacier', 'sea', 'sea', 'mountain', 'buildings', 'buildings', 'forest', 'sea', 'street', 'glacier', 'sea', 'sea', 'glacier', 'sea', 'street', 'buildings', 'forest', 'forest', 'mountain', 'street', 'sea', 'sea', 'sea', 'sea', 'sea', 'mountain', 'sea', 'mountain', 'mountain', 'street', 'glacier', 'glacier', 'glacier', 'glacier', 'mountain', 'glacier', 'sea', 'mountain', 'sea', 'sea', 'sea', 'sea', 'sea', 'sea', 'glacier', 'glacier', 'street', 'mountain', 'street', 'forest', 'street', 'forest', 'sea', 'buildings', 'buildings', 'buildings', 'sea', 'glacier', 'glacier', 'street', 'forest', 'street', 'buildings', 'street', 'street', 'sea', 'buildings', 'glacier', 'sea', 'glacier', 'street', 'forest', 'glacier', 'buildings', 'street', 'forest', 'street', 'street', 'sea', 'sea', 'street', 'street', 'street', 'glacier', 'buildings', 'buildings', 'street', 'glacier', 'forest', 'buildings', 'street', 'buildings', 'glacier', 'sea', 'buildings', 'buildings', 'mountain', 'street', 'glacier', 'street', 'glacier', 'mountain', 'forest', 'street', 'mountain', 'sea', 'buildings', 'street', 'buildings', 'glacier', 'glacier', 'sea', 'glacier', 'mountain', 'glacier', 'mountain', 'forest', 'street', 'glacier', 'glacier', 'sea', 'street', 'forest', 'mountain', 'mountain', 'buildings', 'glacier', 'glacier', 'street', 'mountain', 'sea', 'forest', 'mountain', 'forest', 'forest', 'mountain', 'forest', 'sea', 'buildings', 'street', 'forest', 'street', 'buildings', 'sea', 'glacier', 'mountain', 'street', 'forest', 'glacier', 'forest', 'mountain', 'street', 'sea', 'street', 'mountain', 'street', 'mountain', 'forest', 'sea', 'glacier', 'sea', 'street', 'sea', 'sea', 'glacier', 'sea', 'street', 'buildings', 'mountain', 'mountain', 'street', 'street', 'mountain', 'sea', 'mountain', 'street', 'street', 'glacier', 'glacier', 'buildings', 'sea', 'street', 'buildings', 'mountain', 'sea', 'buildings', 'buildings', 'mountain', 'mountain', 'street', 'sea', 'glacier', 'mountain', 'sea', 'mountain', 'sea', 'sea', 'street', 'sea', 'street', 'forest', 'buildings', 'mountain', 'sea', 'buildings', 'street', 'forest', 'sea', 'mountain', 'sea', 'sea', 'street', 'sea', 'glacier', 'sea', 'sea', 'glacier', 'sea', 'buildings', 'buildings', 'street', 'mountain', 'sea', 'mountain', 'street', 'glacier', 'mountain', 'forest', 'forest', 'street', 'mountain', 'street', 'glacier', 'mountain', 'sea', 'buildings', 'street', 'sea', 'sea', 'glacier', 'forest', 'forest', 'mountain', 'mountain', 'sea', 'street', 'mountain', 'street', 'sea', 'street', 'mountain', 'street', 'glacier', 'glacier', 'glacier', 'forest', 'forest', 'sea', 'sea', 'sea', 'buildings', 'glacier', 'sea', 'glacier', 'buildings', 'mountain', 'mountain', 'glacier', 'forest', 'sea', 'glacier', 'glacier', 'glacier', 'glacier', 'buildings', 'mountain', 'street', 'glacier', 'street', 'mountain', 'street', 'street', 'sea', 'glacier', 'mountain', 'forest', 'glacier', 'sea', 'street', 'sea', 'street', 'forest', 'mountain', 'glacier', 'sea', 'glacier', 'mountain', 'buildings', 'forest', 'forest', 'glacier', 'glacier', 'glacier', 'forest', 'forest', 'street', 'glacier', 'buildings', 'street', 'glacier', 'sea', 'forest', 'glacier', 'glacier', 'glacier', 'street', 'sea', 'glacier', 'street', 'glacier', 'forest', 'buildings', 'glacier', 'sea', 'buildings', 'sea', 'sea', 'glacier', 'sea', 'sea', 'forest', 'street', 'sea', 'mountain', 'sea', 'sea', 'sea', 'forest', 'street', 'street', 'sea', 'sea', 'glacier', 'glacier', 'mountain', 'buildings', 'street', 'buildings', 'street', 'forest', 'buildings', 'buildings', 'mountain', 'forest', 'forest', 'forest', 'forest', 'street', 'buildings', 'mountain', 'forest', 'street', 'glacier', 'glacier', 'glacier', 'sea', 'glacier', 'street', 'mountain', 'mountain', 'mountain', 'glacier', 'mountain', 'mountain', 'sea', 'forest', 'street', 'sea', 'glacier', 'sea', 'buildings', 'forest', 'glacier', 'sea', 'buildings', 'street', 'forest', 'sea', 'sea', 'glacier', 'glacier', 'sea', 'mountain', 'street', 'street', 'glacier', 'street', 'mountain', 'forest', 'street', 'mountain', 'buildings', 'sea', 'glacier', 'sea', 'street', 'sea', 'glacier', 'mountain', 'buildings', 'street', 'glacier', 'forest', 'street', 'glacier', 'glacier', 'glacier', 'forest', 'forest', 'buildings', 'glacier', 'glacier', 'sea', 'street', 'street', 'buildings', 'glacier', 'sea', 'forest', 'street', 'glacier', 'forest', 'glacier', 'mountain', 'sea', 'street', 'glacier', 'glacier', 'street', 'glacier', 'buildings', 'forest', 'glacier', 'mountain', 'glacier', 'glacier', 'buildings', 'mountain', 'street', 'sea', 'sea', 'glacier', 'street', 'sea', 'sea', 'sea', 'mountain', 'buildings', 'forest', 'forest', 'mountain', 'sea', 'mountain', 'street', 'buildings', 'mountain', 'mountain', 'street', 'glacier', 'street', 'street', 'street', 'sea', 'glacier', 'forest', 'street', 'mountain', 'street', 'glacier', 'buildings', 'street', 'buildings', 'sea', 'sea', 'street', 'mountain', 'glacier', 'street', 'sea', 'street', 'sea', 'mountain', 'glacier', 'sea', 'street', 'glacier', 'glacier', 'street', 'sea', 'glacier', 'glacier', 'buildings', 'forest', 'mountain', 'glacier', 'street', 'forest', 'sea', 'glacier', 'glacier', 'forest', 'glacier', 'street', 'street', 'glacier', 'street', 'sea', 'sea', 'forest', 'mountain', 'glacier', 'forest', 'mountain', 'sea', 'sea', 'street', 'glacier', 'sea', 'glacier', 'mountain', 'glacier', 'mountain', 'sea', 'sea', 'glacier', 'buildings', 'sea', 'sea', 'street', 'sea', 'glacier', 'sea', 'buildings', 'glacier', 'mountain', 'forest', 'forest', 'street', 'street', 'street', 'glacier', 'mountain', 'street', 'mountain', 'buildings', 'buildings', 'sea', 'buildings', 'street', 'buildings', 'sea', 'buildings', 'forest', 'street', 'street', 'sea', 'glacier', 'forest', 'street', 'buildings', 'buildings', 'glacier', 'sea', 'mountain', 'street', 'sea', 'mountain', 'forest', 'mountain', 'glacier', 'sea', 'glacier', 'sea', 'glacier', 'street', 'forest', 'glacier', 'sea', 'glacier', 'sea', 'mountain', 'glacier', 'mountain', 'street', 'sea', 'forest', 'mountain', 'street', 'glacier', 'street', 'street', 'sea', 'mountain', 'forest', 'glacier', 'street', 'sea', 'mountain', 'mountain', 'mountain', 'street', 'sea', 'forest', 'glacier', 'mountain', 'sea', 'sea', 'glacier', 'mountain', 'sea', 'street', 'sea', 'buildings', 'mountain', 'street', 'sea', 'street', 'mountain', 'glacier', 'street', 'mountain', 'mountain', 'street', 'sea', 'buildings', 'glacier', 'sea', 'glacier', 'glacier', 'glacier', 'buildings', 'sea', 'sea', 'forest', 'forest', 'sea', 'buildings', 'mountain', 'mountain', 'mountain', 'buildings', 'forest', 'buildings', 'sea', 'forest', 'street', 'street', 'buildings', 'forest', 'sea', 'street', 'glacier', 'sea', 'mountain', 'buildings', 'forest', 'sea', 'sea', 'glacier', 'sea', 'mountain', 'street', 'forest', 'mountain', 'street', 'street', 'mountain', 'forest', 'glacier', 'glacier', 'glacier', 'buildings', 'mountain', 'street', 'sea', 'glacier', 'street', 'glacier', 'mountain', 'street', 'street', 'buildings', 'sea', 'street', 'buildings', 'mountain', 'mountain', 'mountain', 'forest', 'sea', 'mountain', 'buildings', 'sea', 'glacier', 'sea', 'mountain', 'buildings', 'street', 'sea', 'sea', 'forest', 'buildings', 'glacier', 'glacier', 'sea', 'street', 'sea', 'sea', 'glacier', 'forest', 'mountain', 'street', 'street', 'sea', 'sea', 'glacier', 'mountain', 'glacier', 'sea', 'forest', 'glacier', 'sea', 'buildings', 'sea', 'buildings', 'forest', 'forest', 'forest', 'buildings', 'buildings', 'buildings', 'street', 'glacier', 'street', 'forest', 'sea', 'glacier', 'glacier', 'buildings', 'buildings', 'buildings', 'mountain', 'glacier', 'sea', 'sea', 'mountain', 'glacier', 'mountain', 'street', 'mountain', 'glacier', 'forest', 'sea', 'sea', 'sea', 'street', 'forest', 'buildings', 'forest', 'mountain', 'buildings', 'glacier', 'street', 'street', 'glacier', 'sea', 'street', 'forest', 'sea', 'buildings', 'glacier', 'sea', 'glacier', 'mountain', 'glacier', 'sea', 'mountain', 'sea', 'sea', 'buildings', 'forest', 'sea', 'sea', 'forest', 'forest', 'glacier', 'sea', 'buildings', 'buildings', 'glacier', 'sea', 'forest', 'glacier', 'sea', 'mountain', 'street', 'sea', 'street', 'sea', 'forest', 'street', 'street', 'mountain', 'forest', 'buildings', 'buildings', 'street', 'glacier', 'buildings', 'forest', 'sea', 'sea', 'forest', 'street', 'glacier', 'mountain', 'sea', 'sea', 'street', 'street', 'street', 'glacier', 'mountain', 'forest', 'sea', 'street', 'sea', 'mountain', 'sea', 'buildings', 'sea', 'glacier', 'mountain', 'mountain', 'sea', 'mountain', 'forest', 'street', 'buildings', 'street', 'sea', 'mountain', 'street', 'forest', 'glacier', 'buildings', 'forest', 'street', 'sea', 'glacier', 'street', 'sea', 'sea', 'mountain', 'street', 'street', 'street', 'street', 'buildings', 'street', 'glacier', 'street', 'street', 'glacier', 'street', 'mountain', 'glacier', 'sea', 'sea', 'glacier', 'mountain', 'forest', 'buildings', 'forest', 'forest', 'street', 'glacier', 'glacier', 'glacier', 'sea', 'street', 'mountain', 'glacier', 'glacier', 'mountain', 'street', 'glacier', 'street', 'glacier', 'glacier', 'glacier', 'glacier', 'street', 'glacier', 'mountain', 'glacier', 'sea', 'forest', 'glacier', 'forest', 'sea', 'glacier', 'street', 'sea', 'buildings', 'glacier', 'glacier', 'glacier', 'forest', 'glacier', 'glacier', 'forest', 'street', 'sea', 'sea', 'mountain', 'glacier', 'street', 'forest', 'street', 'mountain', 'street', 'street', 'street', 'forest', 'buildings', 'street', 'street', 'forest', 'street', 'street', 'glacier', 'street', 'mountain', 'glacier', 'buildings', 'street', 'forest', 'mountain', 'forest', 'street', 'mountain', 'glacier', 'glacier', 'glacier', 'street', 'sea', 'mountain', 'glacier', 'mountain', 'sea', 'street', 'mountain', 'glacier', 'mountain', 'mountain', 'street', 'buildings', 'forest', 'street', 'buildings', 'street', 'sea', 'glacier', 'street', 'mountain', 'glacier', 'glacier', 'glacier', 'glacier', 'forest', 'street', 'mountain', 'forest', 'buildings', 'street', 'buildings', 'buildings', 'street', 'sea', 'sea', 'buildings', 'buildings', 'glacier', 'street', 'mountain', 'buildings', 'mountain', 'mountain', 'mountain', 'forest', 'street', 'sea', 'mountain', 'street', 'street', 'sea', 'street', 'glacier', 'glacier', 'mountain', 'sea', 'mountain', 'forest', 'forest', 'buildings', 'mountain', 'mountain', 'forest', 'forest', 'buildings', 'street', 'mountain', 'street', 'street', 'street', 'forest', 'mountain', 'buildings', 'street', 'forest', 'glacier', 'glacier', 'glacier', 'street', 'street', 'forest', 'mountain', 'sea', 'street', 'mountain', 'forest', 'sea', 'forest', 'forest', 'sea', 'mountain', 'buildings', 'forest', 'glacier', 'glacier', 'street', 'street', 'mountain', 'mountain', 'buildings', 'street', 'street', 'glacier', 'mountain', 'forest', 'sea', 'glacier', 'street', 'sea', 'glacier', 'street', 'glacier', 'mountain', 'mountain', 'glacier', 'glacier', 'street', 'glacier', 'mountain', 'street', 'street', 'forest', 'glacier', 'forest', 'sea', 'forest', 'forest', 'forest', 'sea', 'glacier', 'forest', 'forest', 'sea', 'mountain', 'glacier', 'mountain', 'glacier', 'forest', 'buildings', 'forest', 'street', 'mountain', 'mountain', 'mountain', 'street', 'street', 'forest', 'street', 'street', 'street', 'forest', 'buildings', 'street', 'buildings', 'glacier', 'street', 'forest', 'glacier', 'glacier', 'buildings', 'mountain', 'glacier', 'sea', 'glacier', 'forest', 'forest', 'glacier', 'sea', 'glacier', 'sea', 'sea', 'forest', 'buildings', 'forest', 'mountain', 'mountain', 'forest', 'glacier', 'glacier', 'street', 'glacier', 'glacier', 'buildings', 'street', 'sea', 'forest', 'glacier', 'buildings', 'street', 'forest', 'sea', 'glacier', 'mountain', 'mountain', 'forest', 'mountain', 'street', 'buildings', 'forest', 'glacier', 'street', 'buildings', 'mountain', 'forest', 'sea', 'mountain', 'forest', 'street', 'glacier', 'mountain', 'glacier', 'buildings', 'street', 'sea', 'glacier', 'street', 'buildings', 'glacier', 'glacier', 'forest', 'forest', 'glacier', 'street', 'street', 'street', 'glacier', 'sea', 'street', 'street', 'glacier', 'street', 'glacier', 'glacier', 'buildings', 'street', 'forest', 'forest', 'street', 'street', 'mountain', 'glacier', 'sea', 'forest', 'buildings', 'glacier', 'sea', 'sea', 'buildings', 'sea', 'glacier', 'mountain', 'sea', 'forest', 'glacier', 'street', 'forest', 'street', 'glacier', 'glacier', 'glacier', 'street', 'mountain', 'buildings', 'sea', 'glacier', 'sea', 'street', 'mountain', 'mountain', 'street', 'forest', 'mountain', 'sea', 'sea', 'mountain', 'street', 'street', 'buildings', 'buildings', 'glacier', 'buildings', 'sea', 'forest', 'forest', 'glacier', 'sea', 'sea', 'buildings', 'glacier', 'sea', 'mountain', 'sea', 'street', 'street', 'sea', 'mountain', 'sea', 'forest', 'street', 'forest', 'sea', 'street', 'mountain', 'street', 'mountain', 'glacier', 'sea', 'mountain', 'street', 'mountain', 'forest', 'sea', 'street', 'street', 'mountain', 'forest', 'mountain', 'sea', 'street', 'mountain', 'sea', 'glacier', 'sea', 'street', 'forest', 'glacier', 'street', 'sea', 'glacier', 'street', 'sea', 'glacier', 'buildings', 'sea', 'sea', 'forest', 'sea', 'buildings', 'buildings', 'forest', 'sea', 'glacier', 'mountain', 'mountain', 'street', 'mountain', 'street', 'sea', 'sea', 'sea', 'mountain', 'forest', 'mountain', 'sea', 'forest', 'street', 'sea', 'forest', 'mountain', 'glacier', 'sea', 'sea', 'mountain', 'mountain', 'sea', 'street', 'street', 'sea', 'forest', 'forest', 'glacier', 'street', 'forest', 'mountain', 'glacier', 'forest', 'glacier', 'mountain', 'glacier', 'street', 'sea', 'glacier', 'glacier', 'glacier', 'sea', 'glacier', 'sea', 'mountain', 'mountain', 'glacier', 'street', 'mountain', 'sea', 'glacier', 'forest', 'street', 'mountain', 'street', 'street', 'street', 'mountain', 'mountain', 'glacier', 'street', 'glacier', 'forest', 'mountain', 'street', 'forest', 'street', 'mountain', 'mountain', 'buildings', 'mountain', 'street', 'street', 'forest', 'mountain', 'mountain', 'glacier', 'buildings', 'street', 'street', 'forest', 'buildings', 'street', 'street', 'glacier', 'buildings', 'mountain', 'street', 'glacier', 'glacier', 'street', 'glacier', 'street', 'sea', 'forest', 'glacier', 'sea', 'forest', 'forest', 'mountain', 'street', 'sea', 'sea', 'sea', 'sea', 'street', 'sea', 'buildings', 'mountain', 'sea', 'sea', 'mountain', 'glacier', 'glacier', 'street', 'sea', 'glacier', 'glacier', 'street', 'buildings', 'sea', 'glacier', 'forest', 'street', 'sea', 'forest', 'sea', 'street', 'mountain', 'forest', 'buildings', 'street', 'sea', 'glacier', 'glacier', 'forest', 'forest', 'sea', 'glacier', 'mountain', 'buildings', 'buildings', 'mountain', 'street', 'sea', 'glacier', 'mountain', 'sea', 'street', 'glacier', 'glacier', 'glacier', 'sea', 'street', 'forest', 'street', 'glacier', 'glacier', 'sea', 'glacier', 'street', 'forest', 'sea', 'buildings', 'glacier', 'sea', 'forest', 'sea', 'glacier', 'sea', 'street', 'street', 'forest', 'mountain', 'street', 'glacier', 'mountain', 'forest', 'street', 'buildings', 'sea', 'glacier', 'buildings', 'sea', 'street', 'glacier', 'forest', 'buildings', 'forest', 'mountain', 'buildings', 'forest', 'glacier', 'mountain', 'glacier', 'glacier', 'glacier', 'street', 'buildings', 'sea', 'forest', 'mountain', 'buildings', 'street', 'sea', 'buildings', 'buildings', 'glacier', 'forest', 'sea', 'glacier', 'glacier', 'mountain', 'sea', 'street']\n"
     ]
    }
   ],
   "source": [
    "pred_labels = np.argmax(y_pred, axis=1)\n",
    "print(pred_labels)\n",
    "pred_names = [class_names[pred] for pred in pred_labels]\n",
    "print(pred_names)"
   ]
  },
  {
   "cell_type": "code",
   "execution_count": 66,
   "metadata": {},
   "outputs": [
    {
     "data": {
      "text/plain": [
       "<Axes: >"
      ]
     },
     "execution_count": 66,
     "metadata": {},
     "output_type": "execute_result"
    },
    {
     "data": {
      "image/png": "[encoded data removed]",
      "text/plain": [
       "<Figure size 640x480 with 2 Axes>"
      ]
     },
     "metadata": {},
     "output_type": "display_data"
    }
   ],
   "source": [
    "c_mat = confusion_matrix(y_test, pred_labels, normalize='true')\n",
    "sns.heatmap(c_mat, annot=True, xticklabels=class_names, yticklabels=class_names)"
   ]
  },
  {
   "cell_type": "code",
   "execution_count": 67,
   "metadata": {},
   "outputs": [
    {
     "name": "stdout",
     "output_type": "stream",
     "text": [
      "              precision    recall  f1-score   support\n",
      "\n",
      "           0       0.79      0.60      0.68       437\n",
      "           1       0.95      0.84      0.89       474\n",
      "           2       0.68      0.79      0.73       553\n",
      "           3       0.77      0.62      0.69       525\n",
      "           4       0.69      0.76      0.72       510\n",
      "           5       0.68      0.84      0.75       501\n",
      "\n",
      "    accuracy                           0.74      3000\n",
      "   macro avg       0.76      0.74      0.75      3000\n",
      "weighted avg       0.76      0.74      0.74      3000\n",
      "\n"
     ]
    }
   ],
   "source": [
    "from sklearn.metrics import classification_report\n",
    "\n",
    "print(classification_report(y_test, pred_labels))"
   ]
  },
  {
   "cell_type": "code",
   "execution_count": 2,
   "metadata": {},
   "outputs": [],
   "source": [
    "# model.predict(X_test[100])"
   ]
  }
 ],
 "metadata": {
  "kernelspec": {
   "display_name": "Python 3.7.4 64-bit",
   "language": "python",
   "name": "python3"
  },
  "language_info": {
   "codemirror_mode": {
    "name": "ipython",
    "version": 3
   },
   "file_extension": ".py",
   "mimetype": "text/x-python",
   "name": "python",
   "nbconvert_exporter": "python",
   "pygments_lexer": "ipython3",
   "version": "3.11.3"
  },
  "orig_nbformat": 4,
  "vscode": {
   "interpreter": {
    "hash": "90139cb9a825bf3d63f6f6704e828dbd1ff7edbd4d0c6e906a71235d6efc74af"
   }
  }
 },
 "nbformat": 4,
 "nbformat_minor": 2
}
